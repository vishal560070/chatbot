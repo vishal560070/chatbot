{
 "cells": [
  {
   "cell_type": "code",
   "execution_count": 1,
   "metadata": {},
   "outputs": [
    {
     "data": {
      "text/plain": [
       "True"
      ]
     },
     "execution_count": 1,
     "metadata": {},
     "output_type": "execute_result"
    }
   ],
   "source": [
    "import nltk\n",
    "from nltk.stem import WordNetLemmatizer\n",
    "from nltk.stem import PorterStemmer \n",
    "nltk.download('popular', quiet=True)"
   ]
  },
  {
   "cell_type": "code",
   "execution_count": 2,
   "metadata": {},
   "outputs": [],
   "source": [
    "import io\n",
    "import random\n",
    "import string # to process standard python strings\n",
    "import warnings\n",
    "import numpy as np\n",
    "from sklearn.feature_extraction.text import TfidfVectorizer\n",
    "from sklearn.metrics.pairwise import cosine_similarity\n",
    "import warnings\n",
    "warnings.filterwarnings('ignore')"
   ]
  },
  {
   "cell_type": "code",
   "execution_count": 4,
   "metadata": {},
   "outputs": [],
   "source": [
    "file=open('chatbot.txt','r',errors = 'ignore')\n",
    "corpus=file.read()\n",
    "corpus = corpus.lower()"
   ]
  },
  {
   "cell_type": "code",
   "execution_count": 5,
   "metadata": {},
   "outputs": [
    {
     "name": "stdout",
     "output_type": "stream",
     "text": [
      "a chatbot (also known as a talkbot, chatterbot, bot, im bot, interactive agent, or artificial conversational entity) is a computer program or an artificial intelligence which conducts a conversation via auditory or textual methods. such programs are often designed to convincingly simulate how a human would behave as a conversational partner, thereby passing the turing test. chatbots are typically used in dialog systems for various practical purposes including customer service or information acquisition. some chatterbots use sophisticated natural language processing systems, but many simpler systems scan for keywords within the input, then pull a reply with the most matching keywords, or the most similar wording pattern, from a database.\n",
      "\n",
      "the term \"chatterbot\" was originally coined by michael mauldin (creator of the first verbot, julia) in 1994 to describe these conversational programs.today, most chatbots are either accessed via virtual assistants such as google assistant and amazon alexa, via messaging apps such as facebook messenger or wechat, or via individual organizations' apps and websites. chatbots can be classified into usage categories such as conversational commerce (e-commerce via chat), analytics, communication, customer support, design, developer tools, education, entertainment, finance, food, games, health, hr, marketing, news, personal, productivity, shopping, social, sports, travel and utilities.\n",
      "background\n",
      "in 1950, alan turing's famous article \"computing machinery and intelligence\" was published, which proposed what is now called the turing test as a criterion of intelligence. this criterion depends on the ability of a computer program to impersonate a human in a real-time written conversation with a human judge, sufficiently well that the judge is unable to distinguish reliablyon the basis of the conversational content alonebetween the program and a real human. the notoriety of turing's proposed test stimulated great interest in joseph weizenbaum's program eliza, published in 1966, which seemed to be able to fool users into believing that they were conversing with a real human. however weizenbaum himself did not claim that eliza was genuinely intelligent, and the introduction to his paper presented it more as a debunking exercise:\n",
      "\n",
      "[in] artificial intelligence ... machines are made to behave in wondrous ways, often sufficient to dazzle even the most experienced observer. but once a particular program is unmasked, once its inner workings are explained ... its magic crumbles away; it stands revealed as a mere collection of procedures ... the observer says to himself \"i could have written that\". with that thought he moves the program in question from the shelf marked \"intelligent\", to that reserved for curios ... the object of this paper is to cause just such a re-evaluation of the program about to be \"explained\". few programs ever needed it more.\n",
      "\n",
      "eliza's key method of operation (copied by chatbot designers ever since) involves the recognition of cue words or phrases in the input, and the output of corresponding pre-prepared or pre-programmed responses that can move the conversation forward in an apparently meaningful way (e.g. by responding to any input that contains the word 'mother' with 'tell me more about your family').thus an illusion of understanding is generated, even though the processing involved has been merely superficial. eliza showed that such an illusion is surprisingly easy to generate, because human judges are so ready to give the benefit of the doubt when conversational responses are capable of being interpreted as \"intelligent\".\n",
      "\n",
      "interface designers have come to appreciate that humans' readiness to interpret computer output as genuinely conversationaleven when it is actually based on rather simple pattern-matchingcan be exploited for useful purposes. most people prefer to engage with programs that are human-like, and this gives chatbot-style techniques a potentially useful role in interactive systems that need to elicit information from users, as long as that information is relatively straightforward and falls into predictable categories. thus, for example, online help systems can usefully employ chatbot techniques to identify the area of help that users require, potentially providing a \"friendlier\" interface than a more formal search or menu system. this sort of usage holds the prospect of moving chatbot technology from weizenbaum's \"shelf ... reserved for curios\" to that marked \"genuinely useful computational methods\".\n",
      "\n",
      "development\n",
      "the classic historic early chatbots are eliza (1966) and parry (1972).more recent notable programs include a.l.i.c.e., jabberwacky and d.u.d.e (agence nationale de la recherche and cnrs 2006). while eliza and parry were used exclusively to simulate typed conversation, many chatbots now include functional features such as games and web searching abilities. in 1984, a book called the policeman's beard is half constructed was published, allegedly written by the chatbot racter (though the program as released would not have been capable of doing so).\n",
      "\n",
      "one pertinent field of ai research is natural language processing. usually, weak ai fields employ specialized software or programming languages created specifically for the narrow function required. for example, a.l.i.c.e. uses a markup language called aiml, which is specific to its function as a conversational agent, and has since been adopted by various other developers of, so called, alicebots. nevertheless, a.l.i.c.e. is still purely based on pattern matching techniques without any reasoning capabilities, the same technique eliza was using back in 1966. this is not strong ai, which would require sapience and logical reasoning abilities.\n",
      "\n",
      "jabberwacky learns new responses and context based on real-time user interactions, rather than being driven from a static database. some more recent chatbots also combine real-time learning with evolutionary algorithms that optimise their ability to communicate based on each conversation held. still, there is currently no general purpose conversational artificial intelligence, and some software developers focus on the practical aspect, information retrieval.\n",
      "\n",
      "chatbot competitions focus on the turing test or more specific goals. two such annual contests are the loebner prize and the chatterbox challenge (offline since 2015, materials can still be found from web archives).\n",
      "\n",
      "according to forrester (2015), ai will replace 16 percent of american jobs by the end of the decade.chatbots have been used in applications such as customer service, sales and product education. however, a study conducted by narrative science in 2015 found that 80 percent of their respondents believe ai improves worker performance and creates jobs.[citation needed]\n",
      "\n",
      "application\n",
      "see also: virtual assistant\n",
      "\n",
      "aeromexico airline chatbot running on facebook messenger, march 2018\n",
      "messaging apps\n",
      "many companies' chatbots run on messaging apps like facebook messenger (since 2016), wechat (since 2013),whatsapp, livechat, kik, slack, line, telegram, or simply via sms. they are used for b2c customer service, sales and marketing.\n",
      "\n",
      "in 2016, facebook messenger allowed developers to place chatbots on their platform. there were 30,000 bots created for messenger in the first six months, rising to 100,000 by september 2017.\n",
      "\n",
      "since september 2017, this has also been as part of a pilot program on whatsapp. airlines klm and aeromxico both announced their participation in the testing;both airlines had previously launched customer services on the facebook messenger platform.\n",
      "\n",
      "the bots usually appear as one of the user's contacts, but can sometimes act as participants in a group chat.\n",
      "\n",
      "many banks and insurers, media and e-commerce companies, airlines and hotel chains, retailers, health care providers, government entities and restaurant chains have used chatbots to answer simple questions, increase customer engagement,for promotion, and to offer additional ways to order from them.\n",
      "\n",
      "a 2017 study showed 4% of companies used chatbots.according to a 2016 study, 80% of businesses said they intended to have one by 2020.\n",
      "\n",
      "as part of company apps and websites\n",
      "previous generations of chatbots were present on company websites, e.g. ask jenn from alaska airlines which debuted in 2008 or expedia's virtual customer service agent which launched in 2011.the newer generation of chatbots includes ibm watson-powered \"rocky\", introduced in february 2017 by the new york city-based e-commerce company rare carat to provide information to prospective diamond buyers.\n",
      "\n",
      "company internal platforms\n",
      "other companies explore ways they can use chatbots internally, for example for customer support, human resources, or even in internet-of-things (iot) projects. overstock.com, for one, has reportedly launched a chatbot named mila to automate certain simple yet time-consuming processes when requesting for a sick leave.other large companies such as lloyds banking group, royal bank of scotland, renault and citron are now using automated online assistants instead of call centres with humans to provide a first point of contact. a saas chatbot business ecosystem has been steadily growing since the f8 conference when zuckerberg unveiled that messenger would allow chatbots into the app.\n",
      "\n",
      "toys\n",
      "chatbots have also been incorporated into devices not primarily meant for computing such as toys.\n",
      "\n",
      "hello barbie is an internet-connected version of the doll that uses a chatbot provided by the company toytalk,which previously used the chatbot for a range of smartphone-based characters for children.these characters' behaviors are constrained by a set of rules that in effect emulate a particular character and produce a storyline.\n",
      "\n",
      "ibm's watson computer has been used as the basis for chatbot-based educational toys for companies such as cognitoys intended to interact with children for educational purposes.\n",
      "\n",
      "chatbot creation\n",
      "the process of creating a chatbot follows a pattern similar to the development of a web page or a mobile app. it can be divided into design, building, analytics and maintenance.\n",
      "\n",
      "design\n",
      "the chatbot design is the process that defines the interaction between the user and the chatbot.the chatbot designer will define the chatbot personality, the questions that will be asked to the users, and the overall interaction.it can be viewed as a subset of the conversational design. in order to speed up this process, designers can use dedicated chatbot design tools, that allow for immediate preview, team collaboration and video export.an important part of the chatbot design is also centered around user testing. user testing can be performed following the same principles that guide the user testing of graphical interfaces.\n",
      "\n",
      "building\n",
      "the process of building a chatbot can be divided into two main tasks: understanding the user's intent and producing the correct answer. the first task involves understanding the user input. in order to properly understand a user input in a free text form, a natural language processing engine can be used.the second task may involve different approaches depending on the type of the response that the chatbot will generate.\n",
      "\n",
      "analytics\n",
      "the usage of the chatbot can be monitored in order to spot potential flaws or problems. it can also provide useful insights that can improve the final user experience.\n",
      "\n",
      "maintenance\n",
      "to keep chatbots up to speed with changing company products and services, traditional chatbot development platforms require ongoing maintenance. this can either be in the form of an ongoing service provider or for larger enterprises in the form of an in-house chatbot training team.to eliminate these costs, some startups are experimenting with artificial intelligence to develop self-learning chatbots, particularly in customer service applications.\n",
      "\n",
      "chatbot development platforms\n",
      "the process of building, testing and deploying chatbots can be done on cloud based chatbot development platforms offered by cloud platform as a service (paas) providers such as yekaliva, oracle cloud platform, snatchbot and ibm watson.these cloud platforms provide natural language processing, artificial intelligence and mobile backend as a service for chatbot development.\n",
      "\n",
      "apis\n",
      "there are many apis available for building your own chatbots, such as aarc.\n",
      "\n",
      "malicious use\n",
      "malicious chatbots are frequently used to fill chat rooms with spam and advertisements, by mimicking human behaviour and conversations or to entice people into revealing personal information, such as bank account numbers. they are commonly found on yahoo! messenger, windows live messenger, aol instant messenger and other instant messaging protocols. there has also been a published report of a chatbot used in a fake personal ad on a dating service's website.\n"
     ]
    }
   ],
   "source": [
    "print(corpus)"
   ]
  },
  {
   "cell_type": "code",
   "execution_count": 6,
   "metadata": {},
   "outputs": [],
   "source": [
    "sent_tokens = nltk.sent_tokenize(corpus)# converts to list of sentences \n",
    "word_tokens = nltk.word_tokenize(corpus)# converts to list of words"
   ]
  },
  {
   "cell_type": "code",
   "execution_count": 7,
   "metadata": {},
   "outputs": [],
   "source": [
    "from nltk.stem import LancasterStemmer\n",
    "from nltk.stem.snowball import SnowballStemmer\n",
    "\n",
    "englishStemmer=SnowballStemmer(\"english\")\n",
    "porter = PorterStemmer()\n",
    "lancaster=LancasterStemmer()\n",
    "\n",
    "\n",
    "def stemSentence(corpus, stemmer):\n",
    "    token_words= nltk.word_tokenize(corpus)\n",
    "    token_words\n",
    "    stem_sentence=[]\n",
    "    for word in token_words:\n",
    "        stem_sentence.append(stemmer.stem(word))\n",
    "        stem_sentence.append(\" \")\n",
    "    return \"\".join(stem_sentence)\n",
    "\n",
    "clean_corpus = stemSentence(corpus, porter)"
   ]
  },
  {
   "cell_type": "code",
   "execution_count": 8,
   "metadata": {},
   "outputs": [
    {
     "data": {
      "text/plain": [
       "\"a chatbot ( also known as a talkbot , chatterbot , bot , im bot , interact agent , or artifici convers entiti ) is a comput program or an artifici intellig which conduct a convers via auditori or textual method . such program are often design to convincingli simul how a human would behav as a convers partner , therebi pass the ture test . chatbot are typic use in dialog system for variou practic purpos includ custom servic or inform acquisit . some chatterbot use sophist natur languag process system , but mani simpler system scan for keyword within the input , then pull a repli with the most match keyword , or the most similar word pattern , from a databas . the term `` chatterbot '' wa origin coin by michael mauldin ( creator of the first verbot , julia ) in 1994 to describ these convers programs.today , most chatbot are either access via virtual assist such as googl assist and amazon alexa , via messag app such as facebook messeng or wechat , or via individu organ ' app and websit . chatbot can be classifi into usag categori such as convers commerc ( e-commerc via chat ) , analyt , commun , custom support , design , develop tool , educ , entertain , financ , food , game , health , hr , market , news , person , product , shop , social , sport , travel and util . background in 1950 , alan ture 's famou articl `` comput machineri and intellig '' wa publish , which propos what is now call the ture test as a criterion of intellig . thi criterion depend on the abil of a comput program to imperson a human in a real-tim written convers with a human judg , suffici well that the judg is unabl to distinguish reliablyon the basi of the convers content alonebetween the program and a real human . the notorieti of ture 's propos test stimul great interest in joseph weizenbaum 's program eliza , publish in 1966 , which seem to be abl to fool user into believ that they were convers with a real human . howev weizenbaum himself did not claim that eliza wa genuin intellig , and the introduct to hi paper present it more as a debunk exercis : [ in ] artifici intellig ... machin are made to behav in wondrou way , often suffici to dazzl even the most experienc observ . but onc a particular program is unmask , onc it inner work are explain ... it magic crumbl away ; it stand reveal as a mere collect of procedur ... the observ say to himself `` i could have written that '' . with that thought he move the program in question from the shelf mark `` intellig '' , to that reserv for curio ... the object of thi paper is to caus just such a re-evalu of the program about to be `` explain '' . few program ever need it more . eliza 's key method of oper ( copi by chatbot design ever sinc ) involv the recognit of cue word or phrase in the input , and the output of correspond pre-prepar or pre-program respons that can move the convers forward in an appar meaning way ( e.g . by respond to ani input that contain the word 'mother ' with 'tell me more about your famili ' ) .thu an illus of understand is gener , even though the process involv ha been mere superfici . eliza show that such an illus is surprisingli easi to gener , becaus human judg are so readi to give the benefit of the doubt when convers respons are capabl of be interpret as `` intellig '' . interfac design have come to appreci that human ' readi to interpret comput output as genuin conversationaleven when it is actual base on rather simpl pattern-matchingcan be exploit for use purpos . most peopl prefer to engag with program that are human-lik , and thi give chatbot-styl techniqu a potenti use role in interact system that need to elicit inform from user , as long as that inform is rel straightforward and fall into predict categori . thu , for exampl , onlin help system can use employ chatbot techniqu to identifi the area of help that user requir , potenti provid a `` friendlier '' interfac than a more formal search or menu system . thi sort of usag hold the prospect of move chatbot technolog from weizenbaum 's `` shelf ... reserv for curio '' to that mark `` genuin use comput method '' . develop the classic histor earli chatbot are eliza ( 1966 ) and parri ( 1972 ) .more recent notabl program includ a.l.i.c.e. , jabberwacki and d.u.d. ( agenc national de la recherch and cnr 2006 ) . while eliza and parri were use exclus to simul type convers , mani chatbot now includ function featur such as game and web search abil . in 1984 , a book call the policeman 's beard is half construct wa publish , allegedli written by the chatbot racter ( though the program as releas would not have been capabl of do so ) . one pertin field of ai research is natur languag process . usual , weak ai field employ special softwar or program languag creat specif for the narrow function requir . for exampl , a.l.i.c. . use a markup languag call aiml , which is specif to it function as a convers agent , and ha sinc been adopt by variou other develop of , so call , alicebot . nevertheless , a.l.i.c. . is still pure base on pattern match techniqu without ani reason capabl , the same techniqu eliza wa use back in 1966. thi is not strong ai , which would requir sapienc and logic reason abil . jabberwacki learn new respons and context base on real-tim user interact , rather than be driven from a static databas . some more recent chatbot also combin real-tim learn with evolutionari algorithm that optimis their abil to commun base on each convers held . still , there is current no gener purpos convers artifici intellig , and some softwar develop focu on the practic aspect , inform retriev . chatbot competit focu on the ture test or more specif goal . two such annual contest are the loebner prize and the chatterbox challeng ( offlin sinc 2015 , materi can still be found from web archiv ) . accord to forrest ( 2015 ) , ai will replac 16 percent of american job by the end of the decade.chatbot have been use in applic such as custom servic , sale and product educ . howev , a studi conduct by narr scienc in 2015 found that 80 percent of their respond believ ai improv worker perform and creat job . [ citat need ] applic see also : virtual assist aeromexico airlin chatbot run on facebook messeng , march 2018 messag app mani compani ' chatbot run on messag app like facebook messeng ( sinc 2016 ) , wechat ( sinc 2013 ) , whatsapp , livechat , kik , slack , line , telegram , or simpli via sm . they are use for b2c custom servic , sale and market . in 2016 , facebook messeng allow develop to place chatbot on their platform . there were 30,000 bot creat for messeng in the first six month , rise to 100,000 by septemb 2017. sinc septemb 2017 , thi ha also been as part of a pilot program on whatsapp . airlin klm and aeromxico both announc their particip in the test ; both airlin had previous launch custom servic on the facebook messeng platform . the bot usual appear as one of the user 's contact , but can sometim act as particip in a group chat . mani bank and insur , media and e-commerc compani , airlin and hotel chain , retail , health care provid , govern entiti and restaur chain have use chatbot to answer simpl question , increas custom engag , for promot , and to offer addit way to order from them . a 2017 studi show 4 % of compani use chatbots.accord to a 2016 studi , 80 % of busi said they intend to have one by 2020. as part of compani app and websit previou gener of chatbot were present on compani websit , e.g . ask jenn from alaska airlin which debut in 2008 or expedia 's virtual custom servic agent which launch in 2011.the newer gener of chatbot includ ibm watson-pow `` rocki '' , introduc in februari 2017 by the new york city-bas e-commerc compani rare carat to provid inform to prospect diamond buyer . compani intern platform other compani explor way they can use chatbot intern , for exampl for custom support , human resourc , or even in internet-of-th ( iot ) project . overstock.com , for one , ha reportedli launch a chatbot name mila to autom certain simpl yet time-consum process when request for a sick leave.oth larg compani such as lloyd bank group , royal bank of scotland , renault and citron are now use autom onlin assist instead of call centr with human to provid a first point of contact . a saa chatbot busi ecosystem ha been steadili grow sinc the f8 confer when zuckerberg unveil that messeng would allow chatbot into the app . toy chatbot have also been incorpor into devic not primarili meant for comput such as toy . hello barbi is an internet-connect version of the doll that use a chatbot provid by the compani toytalk , which previous use the chatbot for a rang of smartphone-bas charact for children.thes charact ' behavior are constrain by a set of rule that in effect emul a particular charact and produc a storylin . ibm 's watson comput ha been use as the basi for chatbot-bas educ toy for compani such as cognitoy intend to interact with children for educ purpos . chatbot creation the process of creat a chatbot follow a pattern similar to the develop of a web page or a mobil app . it can be divid into design , build , analyt and mainten . design the chatbot design is the process that defin the interact between the user and the chatbot.th chatbot design will defin the chatbot person , the question that will be ask to the user , and the overal interaction.it can be view as a subset of the convers design . in order to speed up thi process , design can use dedic chatbot design tool , that allow for immedi preview , team collabor and video export.an import part of the chatbot design is also center around user test . user test can be perform follow the same principl that guid the user test of graphic interfac . build the process of build a chatbot can be divid into two main task : understand the user 's intent and produc the correct answer . the first task involv understand the user input . in order to properli understand a user input in a free text form , a natur languag process engin can be used.th second task may involv differ approach depend on the type of the respons that the chatbot will gener . analyt the usag of the chatbot can be monitor in order to spot potenti flaw or problem . it can also provid use insight that can improv the final user experi . mainten to keep chatbot up to speed with chang compani product and servic , tradit chatbot develop platform requir ongo mainten . thi can either be in the form of an ongo servic provid or for larger enterpris in the form of an in-hous chatbot train team.to elimin these cost , some startup are experi with artifici intellig to develop self-learn chatbot , particularli in custom servic applic . chatbot develop platform the process of build , test and deploy chatbot can be done on cloud base chatbot develop platform offer by cloud platform as a servic ( paa ) provid such as yekaliva , oracl cloud platform , snatchbot and ibm watson.thes cloud platform provid natur languag process , artifici intellig and mobil backend as a servic for chatbot develop . api there are mani api avail for build your own chatbot , such as aarc . malici use malici chatbot are frequent use to fill chat room with spam and advertis , by mimick human behaviour and convers or to entic peopl into reveal person inform , such as bank account number . they are commonli found on yahoo ! messeng , window live messeng , aol instant messeng and other instant messag protocol . there ha also been a publish report of a chatbot use in a fake person ad on a date servic 's websit . \""
      ]
     },
     "execution_count": 8,
     "metadata": {},
     "output_type": "execute_result"
    }
   ],
   "source": [
    "clean_corpus"
   ]
  },
  {
   "cell_type": "markdown",
   "metadata": {},
   "source": [
    "# Vectorize step\n",
    "from sklearn.feature_extraction.text import TfidfVectorizer, CountVectorizer\n",
    "from sklearn.feature_extraction.stop_words import ENGLISH_STOP_WORDS\n",
    "BoW_vectorizer = CountVectorizer(strip_accents='unicode',\n",
    "                                 stop_words=None,\n",
    "                                 ngram_range=(1,3),\n",
    "                                 analyzer='word',\n",
    "                                 min_df=.5,\n",
    "                                 max_df=5.8)\n",
    "\n",
    "#BoW_vectorizer.fit(list(fullSent['Phrase']))\n",
    "#BoW_vectorizer.fit(list(train['Phrase']))\n",
    "#vectorizer = CountVectorizer()\n",
    "#>>> X = vectorizer.fit_transform(corpus)\n",
    "#>>> print(vectorizer.get_feature_names())\n",
    "#['and', 'document', 'first', 'is', 'one', 'second', 'the', 'third', 'this']\n",
    "#>>> print(X.toarray()) \n",
    "BoW_vectorizer.fit_transform(list(clean_corpus.split('\\n')))\n",
    "#tf.fit_transform(smallcorp.split('\\n'))\n",
    "print(BoW_vectorizer.get_feature_names())"
   ]
  },
  {
   "cell_type": "markdown",
   "metadata": {},
   "source": [
    "tfidf_vectorizer = TfidfVectorizer(min_df=.5,\n",
    "                                   max_df=5,\n",
    "                                   analyzer='word',\n",
    "                                   strip_accents='unicode',\n",
    "                                   ngram_range=(1,3),\n",
    "                                   sublinear_tf=True,\n",
    "                                   smooth_idf=True,\n",
    "                                   use_idf=True,\n",
    "                                   stop_words=None)\n",
    "\n",
    "#tfidf_vectorizer.fit(list(fullSent['Phrase']))\n",
    "tfidf_vectorizer.fit_transform(list(clean_corpus.split('\\n')))\n",
    "print(tfidf_vectorizer.get_feature_names())"
   ]
  },
  {
   "cell_type": "code",
   "execution_count": 9,
   "metadata": {},
   "outputs": [],
   "source": [
    "lemmer = nltk.stem.WordNetLemmatizer()\n",
    "\n",
    "def LemTokens(tokens):\n",
    "    return [lemmer.lemmatize(token) for token in tokens]\n",
    "remove_punct_dict = dict((ord(punct), None) for punct in string.punctuation)\n",
    "\n",
    "def LemNormalize(text):\n",
    "    return LemTokens(nltk.word_tokenize(text.lower().translate(remove_punct_dict)))"
   ]
  },
  {
   "cell_type": "code",
   "execution_count": 10,
   "metadata": {},
   "outputs": [],
   "source": [
    "GREETING_INPUTS = (\"hello\", \"hi\", \"greetings\", \"what's up\",\"hey\",)\n",
    "GREETING_RESPONSES = [\"hi\", \"hey\",  \"hi there\", \"hello\", \"I am glad! You are talking to me\"]\n",
    "def greeting(sentence):\n",
    " \n",
    "    for word in sentence.split():\n",
    "        if word.lower() in GREETING_INPUTS:\n",
    "            return random.choice(GREETING_RESPONSES)"
   ]
  },
  {
   "cell_type": "code",
   "execution_count": 11,
   "metadata": {},
   "outputs": [],
   "source": [
    "def response(user_response):\n",
    "    robo_response=''\n",
    "    sent_tokens.append(user_response)\n",
    "    TfidfVec = TfidfVectorizer(tokenizer=LemNormalize, stop_words='english')\n",
    "    tfidf = TfidfVec.fit_transform(sent_tokens)\n",
    "    vals = cosine_similarity(tfidf[-1], tfidf)\n",
    "    idx=vals.argsort()[0][-2]\n",
    "    flat = vals.flatten()\n",
    "    flat.sort()\n",
    "    req_tfidf = flat[-2]\n",
    "    if(req_tfidf==0):\n",
    "        robo_response=robo_response+\"I am sorry! I don't understand you\"\n",
    "        return robo_response\n",
    "    else:\n",
    "        robo_response = robo_response+sent_tokens[idx]\n",
    "        return robo_response"
   ]
  },
  {
   "cell_type": "code",
   "execution_count": 12,
   "metadata": {},
   "outputs": [
    {
     "name": "stdout",
     "output_type": "stream",
     "text": [
      "ROBO: My name is Robo. I will answer your queries. If you want to exit, type Bye!\n",
      "what is chatbot\n",
      "ROBO: design\n",
      "the chatbot design is the process that defines the interaction between the user and the chatbot.the chatbot designer will define the chatbot personality, the questions that will be asked to the users, and the overall interaction.it can be viewed as a subset of the conversational design.\n",
      "who invent it\n",
      "ROBO: I am sorry! I don't understand you\n",
      "Alan\n",
      "ROBO: background\n",
      "in 1950, alan turing's famous article \"computing machinery and intelligence\" was published, which proposed what is now called the turing test as a criterion of intelligence.\n",
      "what is chatbot\n",
      "ROBO: design\n",
      "the chatbot design is the process that defines the interaction between the user and the chatbot.the chatbot designer will define the chatbot personality, the questions that will be asked to the users, and the overall interaction.it can be viewed as a subset of the conversational design.\n",
      "hi\n",
      "ROBO: hi\n",
      "how ru?\n",
      "ROBO: I am sorry! I don't understand you\n",
      "hi\n",
      "ROBO: hi\n",
      "how ru?\n",
      "ROBO: I am sorry! I don't understand you\n",
      "how are you?\n",
      "ROBO: I am sorry! I don't understand you\n",
      "hi\n",
      "ROBO: I am glad! You are talking to me\n",
      "bye\n",
      "ROBO: Bye! take care..\n"
     ]
    }
   ],
   "source": [
    "flag=True\n",
    "print(\"ROBO: My name is Robo. I will answer your queries. If you want to exit, type Bye!\")\n",
    "while(flag==True):\n",
    "    user_response = input()\n",
    "    user_response=user_response.lower()\n",
    "    if(user_response!='bye'):\n",
    "        if(user_response=='thanks' or user_response=='thank you' ):\n",
    "            flag=False\n",
    "            print(\"ROBO: You are welcome..\")\n",
    "        else:\n",
    "            if(greeting(user_response)!=None):\n",
    "                print(\"ROBO: \"+greeting(user_response))\n",
    "            else:\n",
    "                print(\"ROBO: \",end=\"\")\n",
    "                print(response(user_response))\n",
    "                sent_tokens.remove(user_response)\n",
    "    else:\n",
    "        flag=False\n",
    "        print(\"ROBO: Bye! take care..\")"
   ]
  },
  {
   "cell_type": "code",
   "execution_count": null,
   "metadata": {},
   "outputs": [],
   "source": []
  }
 ],
 "metadata": {
  "kernelspec": {
   "display_name": "Python 3",
   "language": "python",
   "name": "python3"
  },
  "language_info": {
   "codemirror_mode": {
    "name": "ipython",
    "version": 3
   },
   "file_extension": ".py",
   "mimetype": "text/x-python",
   "name": "python",
   "nbconvert_exporter": "python",
   "pygments_lexer": "ipython3",
   "version": "3.6.6"
  }
 },
 "nbformat": 4,
 "nbformat_minor": 2
}
