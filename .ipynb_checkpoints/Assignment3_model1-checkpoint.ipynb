{
 "cells": [
  {
   "cell_type": "code",
   "execution_count": 1,
   "metadata": {
    "colab": {
     "base_uri": "https://localhost:8080/",
     "height": 68
    },
    "colab_type": "code",
    "id": "G8_BlA98AXLR",
    "outputId": "899a9a3f-9b0e-4d97-8206-4f213ffc1647"
   },
   "outputs": [
    {
     "name": "stdout",
     "output_type": "stream",
     "text": [
      "[nltk_data] Downloading package punkt to /root/nltk_data...\n",
      "[nltk_data]   Unzipping tokenizers/punkt.zip.\n"
     ]
    },
    {
     "name": "stderr",
     "output_type": "stream",
     "text": [
      "Using TensorFlow backend.\n"
     ]
    }
   ],
   "source": [
    "# Import libraries\n",
    "import csv\n",
    "import pandas as pd\n",
    "import numpy as np\n",
    "import matplotlib.pyplot as plt\n",
    "import datetime\n",
    "import time\n",
    "import nltk\n",
    "nltk.download('punkt')\n",
    "\n",
    "from sklearn.feature_extraction.text import TfidfVectorizer, CountVectorizer\n",
    "from sklearn.feature_extraction.stop_words import ENGLISH_STOP_WORDS\n",
    "from sklearn import metrics\n",
    "from sklearn.model_selection import train_test_split\n",
    "from sklearn.model_selection import cross_val_score\n",
    "from sklearn.svm import SVC\n",
    "from sklearn.linear_model import LogisticRegression\n",
    "from sklearn.naive_bayes import MultinomialNB\n",
    "\n",
    "from keras import backend as K\n",
    "from keras import optimizers\n",
    "from keras.models import Sequential\n",
    "from keras.layers import Conv1D, MaxPooling1D, Dense, Dropout, Flatten, Reshape\n",
    "from keras.layers import Activation, GlobalMaxPooling1D, Embedding\n",
    "from keras import layers"
   ]
  },
  {
   "cell_type": "code",
   "execution_count": 0,
   "metadata": {
    "colab": {},
    "colab_type": "code",
    "id": "BE_Q7_wEAsql"
   },
   "outputs": [],
   "source": [
    "#get data\n",
    "URL_Tr = 'https://raw.githubusercontent.com/cacoderquan/Sentiment-Analysis-on-the-Rotten-Tomatoes-movie-review-dataset/master/train.tsv'\n",
    "\n",
    "# Load test data\n",
    "train = pd.read_csv(URL_Tr, sep='\\t')"
   ]
  },
  {
   "cell_type": "code",
   "execution_count": 3,
   "metadata": {
    "colab": {
     "base_uri": "https://localhost:8080/",
     "height": 359
    },
    "colab_type": "code",
    "id": "_Llg6frVA3d8",
    "outputId": "af214d1d-1b90-4054-fd0b-732d81efdabd"
   },
   "outputs": [
    {
     "data": {
      "text/html": [
       "<div>\n",
       "<style scoped>\n",
       "    .dataframe tbody tr th:only-of-type {\n",
       "        vertical-align: middle;\n",
       "    }\n",
       "\n",
       "    .dataframe tbody tr th {\n",
       "        vertical-align: top;\n",
       "    }\n",
       "\n",
       "    .dataframe thead th {\n",
       "        text-align: right;\n",
       "    }\n",
       "</style>\n",
       "<table border=\"1\" class=\"dataframe\">\n",
       "  <thead>\n",
       "    <tr style=\"text-align: right;\">\n",
       "      <th></th>\n",
       "      <th>PhraseId</th>\n",
       "      <th>SentenceId</th>\n",
       "      <th>Phrase</th>\n",
       "      <th>Sentiment</th>\n",
       "    </tr>\n",
       "  </thead>\n",
       "  <tbody>\n",
       "    <tr>\n",
       "      <th>0</th>\n",
       "      <td>1</td>\n",
       "      <td>1</td>\n",
       "      <td>A series of escapades demonstrating the adage ...</td>\n",
       "      <td>1</td>\n",
       "    </tr>\n",
       "    <tr>\n",
       "      <th>1</th>\n",
       "      <td>2</td>\n",
       "      <td>1</td>\n",
       "      <td>A series of escapades demonstrating the adage ...</td>\n",
       "      <td>2</td>\n",
       "    </tr>\n",
       "    <tr>\n",
       "      <th>2</th>\n",
       "      <td>3</td>\n",
       "      <td>1</td>\n",
       "      <td>A series</td>\n",
       "      <td>2</td>\n",
       "    </tr>\n",
       "    <tr>\n",
       "      <th>3</th>\n",
       "      <td>4</td>\n",
       "      <td>1</td>\n",
       "      <td>A</td>\n",
       "      <td>2</td>\n",
       "    </tr>\n",
       "    <tr>\n",
       "      <th>4</th>\n",
       "      <td>5</td>\n",
       "      <td>1</td>\n",
       "      <td>series</td>\n",
       "      <td>2</td>\n",
       "    </tr>\n",
       "    <tr>\n",
       "      <th>5</th>\n",
       "      <td>6</td>\n",
       "      <td>1</td>\n",
       "      <td>of escapades demonstrating the adage that what...</td>\n",
       "      <td>2</td>\n",
       "    </tr>\n",
       "    <tr>\n",
       "      <th>6</th>\n",
       "      <td>7</td>\n",
       "      <td>1</td>\n",
       "      <td>of</td>\n",
       "      <td>2</td>\n",
       "    </tr>\n",
       "    <tr>\n",
       "      <th>7</th>\n",
       "      <td>8</td>\n",
       "      <td>1</td>\n",
       "      <td>escapades demonstrating the adage that what is...</td>\n",
       "      <td>2</td>\n",
       "    </tr>\n",
       "    <tr>\n",
       "      <th>8</th>\n",
       "      <td>9</td>\n",
       "      <td>1</td>\n",
       "      <td>escapades</td>\n",
       "      <td>2</td>\n",
       "    </tr>\n",
       "    <tr>\n",
       "      <th>9</th>\n",
       "      <td>10</td>\n",
       "      <td>1</td>\n",
       "      <td>demonstrating the adage that what is good for ...</td>\n",
       "      <td>2</td>\n",
       "    </tr>\n",
       "  </tbody>\n",
       "</table>\n",
       "</div>"
      ],
      "text/plain": [
       "   PhraseId  ...  Sentiment\n",
       "0         1  ...          1\n",
       "1         2  ...          2\n",
       "2         3  ...          2\n",
       "3         4  ...          2\n",
       "4         5  ...          2\n",
       "5         6  ...          2\n",
       "6         7  ...          2\n",
       "7         8  ...          2\n",
       "8         9  ...          2\n",
       "9        10  ...          2\n",
       "\n",
       "[10 rows x 4 columns]"
      ]
     },
     "execution_count": 3,
     "metadata": {
      "tags": []
     },
     "output_type": "execute_result"
    }
   ],
   "source": [
    "# See the data\n",
    "train.head(10)"
   ]
  },
  {
   "cell_type": "code",
   "execution_count": 4,
   "metadata": {
    "colab": {
     "base_uri": "https://localhost:8080/",
     "height": 68
    },
    "colab_type": "code",
    "id": "NUHiOObTBFN0",
    "outputId": "331ac885-4c8f-4632-ce75-15e80240e5c3"
   },
   "outputs": [
    {
     "name": "stdout",
     "output_type": "stream",
     "text": [
      "(156060, 4)\n",
      "False\n",
      "8529\n"
     ]
    }
   ],
   "source": [
    "# Check the dimensions\n",
    "print(train.shape)\n",
    "\n",
    "# Null entry checking\n",
    "print(train.isnull().values.any())\n",
    "\n",
    "# Number of unique sentences in the training / testing dataset\n",
    "print(len(train.groupby('SentenceId').nunique()))"
   ]
  },
  {
   "cell_type": "code",
   "execution_count": 5,
   "metadata": {
    "colab": {
     "base_uri": "https://localhost:8080/",
     "height": 359
    },
    "colab_type": "code",
    "id": "imUSl2iKBwT9",
    "outputId": "3b53d3f6-3c4e-4476-ebee-9c436ec9ea1f"
   },
   "outputs": [
    {
     "data": {
      "text/html": [
       "<div>\n",
       "<style scoped>\n",
       "    .dataframe tbody tr th:only-of-type {\n",
       "        vertical-align: middle;\n",
       "    }\n",
       "\n",
       "    .dataframe tbody tr th {\n",
       "        vertical-align: top;\n",
       "    }\n",
       "\n",
       "    .dataframe thead th {\n",
       "        text-align: right;\n",
       "    }\n",
       "</style>\n",
       "<table border=\"1\" class=\"dataframe\">\n",
       "  <thead>\n",
       "    <tr style=\"text-align: right;\">\n",
       "      <th></th>\n",
       "      <th>PhraseId</th>\n",
       "      <th>SentenceId</th>\n",
       "      <th>Phrase</th>\n",
       "      <th>Sentiment</th>\n",
       "      <th>sentiment_label</th>\n",
       "    </tr>\n",
       "  </thead>\n",
       "  <tbody>\n",
       "    <tr>\n",
       "      <th>0</th>\n",
       "      <td>1</td>\n",
       "      <td>1</td>\n",
       "      <td>A series of escapades demonstrating the adage ...</td>\n",
       "      <td>1</td>\n",
       "      <td>Somewhat Negative</td>\n",
       "    </tr>\n",
       "    <tr>\n",
       "      <th>63</th>\n",
       "      <td>64</td>\n",
       "      <td>2</td>\n",
       "      <td>This quiet , introspective and entertaining in...</td>\n",
       "      <td>4</td>\n",
       "      <td>Positive</td>\n",
       "    </tr>\n",
       "    <tr>\n",
       "      <th>81</th>\n",
       "      <td>82</td>\n",
       "      <td>3</td>\n",
       "      <td>Even fans of Ismail Merchant 's work , I suspe...</td>\n",
       "      <td>1</td>\n",
       "      <td>Somewhat Negative</td>\n",
       "    </tr>\n",
       "    <tr>\n",
       "      <th>116</th>\n",
       "      <td>117</td>\n",
       "      <td>4</td>\n",
       "      <td>A positively thrilling combination of ethnogra...</td>\n",
       "      <td>3</td>\n",
       "      <td>Somewhat Positive</td>\n",
       "    </tr>\n",
       "    <tr>\n",
       "      <th>156</th>\n",
       "      <td>157</td>\n",
       "      <td>5</td>\n",
       "      <td>Aggressive self-glorification and a manipulati...</td>\n",
       "      <td>1</td>\n",
       "      <td>Somewhat Negative</td>\n",
       "    </tr>\n",
       "    <tr>\n",
       "      <th>166</th>\n",
       "      <td>167</td>\n",
       "      <td>6</td>\n",
       "      <td>A comedy-drama of nearly epic proportions root...</td>\n",
       "      <td>4</td>\n",
       "      <td>Positive</td>\n",
       "    </tr>\n",
       "    <tr>\n",
       "      <th>198</th>\n",
       "      <td>199</td>\n",
       "      <td>7</td>\n",
       "      <td>Narratively , Trouble Every Day is a plodding ...</td>\n",
       "      <td>1</td>\n",
       "      <td>Somewhat Negative</td>\n",
       "    </tr>\n",
       "    <tr>\n",
       "      <th>213</th>\n",
       "      <td>214</td>\n",
       "      <td>8</td>\n",
       "      <td>The Importance of Being Earnest , so thick wit...</td>\n",
       "      <td>3</td>\n",
       "      <td>Somewhat Positive</td>\n",
       "    </tr>\n",
       "    <tr>\n",
       "      <th>247</th>\n",
       "      <td>248</td>\n",
       "      <td>9</td>\n",
       "      <td>But it does n't leave you with much .</td>\n",
       "      <td>1</td>\n",
       "      <td>Somewhat Negative</td>\n",
       "    </tr>\n",
       "    <tr>\n",
       "      <th>259</th>\n",
       "      <td>260</td>\n",
       "      <td>10</td>\n",
       "      <td>You could hate it for the same reason .</td>\n",
       "      <td>1</td>\n",
       "      <td>Somewhat Negative</td>\n",
       "    </tr>\n",
       "  </tbody>\n",
       "</table>\n",
       "</div>"
      ],
      "text/plain": [
       "     PhraseId  SentenceId  ... Sentiment    sentiment_label\n",
       "0           1           1  ...         1  Somewhat Negative\n",
       "63         64           2  ...         4           Positive\n",
       "81         82           3  ...         1  Somewhat Negative\n",
       "116       117           4  ...         3  Somewhat Positive\n",
       "156       157           5  ...         1  Somewhat Negative\n",
       "166       167           6  ...         4           Positive\n",
       "198       199           7  ...         1  Somewhat Negative\n",
       "213       214           8  ...         3  Somewhat Positive\n",
       "247       248           9  ...         1  Somewhat Negative\n",
       "259       260          10  ...         1  Somewhat Negative\n",
       "\n",
       "[10 rows x 5 columns]"
      ]
     },
     "execution_count": 5,
     "metadata": {
      "tags": []
     },
     "output_type": "execute_result"
    }
   ],
   "source": [
    "# Create df of full sentences\n",
    "fullSent = train.loc[train.groupby('SentenceId')['PhraseId'].idxmin()]\n",
    "\n",
    "# Change sentiment to increase readability\n",
    "fullSent['sentiment_label'] = ''\n",
    "Sentiment_label = ['Negative', 'Somewhat Negative',\n",
    "                   'Neutral', 'Somewhat Positive', 'Positive']\n",
    "for sent, label in enumerate(Sentiment_label):\n",
    "  fullSent.loc[train.Sentiment == sent, 'sentiment_label'] = label\n",
    "  \n",
    "fullSent.head(10)"
   ]
  },
  {
   "cell_type": "code",
   "execution_count": 6,
   "metadata": {
    "colab": {
     "base_uri": "https://localhost:8080/",
     "height": 359
    },
    "colab_type": "code",
    "id": "6nh7v4FTSgmr",
    "outputId": "c941ec7f-e348-4d68-e0f7-f4df7c596729"
   },
   "outputs": [
    {
     "data": {
      "text/html": [
       "<div>\n",
       "<style scoped>\n",
       "    .dataframe tbody tr th:only-of-type {\n",
       "        vertical-align: middle;\n",
       "    }\n",
       "\n",
       "    .dataframe tbody tr th {\n",
       "        vertical-align: top;\n",
       "    }\n",
       "\n",
       "    .dataframe thead th {\n",
       "        text-align: right;\n",
       "    }\n",
       "</style>\n",
       "<table border=\"1\" class=\"dataframe\">\n",
       "  <thead>\n",
       "    <tr style=\"text-align: right;\">\n",
       "      <th></th>\n",
       "      <th>PhraseId</th>\n",
       "      <th>SentenceId</th>\n",
       "      <th>Phrase</th>\n",
       "      <th>Sentiment</th>\n",
       "      <th>sentiment_label</th>\n",
       "    </tr>\n",
       "  </thead>\n",
       "  <tbody>\n",
       "    <tr>\n",
       "      <th>0</th>\n",
       "      <td>1</td>\n",
       "      <td>1</td>\n",
       "      <td>A series of escapades demonstrating the adage ...</td>\n",
       "      <td>1</td>\n",
       "      <td>Somewhat Negative</td>\n",
       "    </tr>\n",
       "    <tr>\n",
       "      <th>63</th>\n",
       "      <td>64</td>\n",
       "      <td>2</td>\n",
       "      <td>This quiet , introspective and entertaining in...</td>\n",
       "      <td>4</td>\n",
       "      <td>Positive</td>\n",
       "    </tr>\n",
       "    <tr>\n",
       "      <th>81</th>\n",
       "      <td>82</td>\n",
       "      <td>3</td>\n",
       "      <td>Even fans of Ismail Merchant 's work , I suspe...</td>\n",
       "      <td>1</td>\n",
       "      <td>Somewhat Negative</td>\n",
       "    </tr>\n",
       "    <tr>\n",
       "      <th>116</th>\n",
       "      <td>117</td>\n",
       "      <td>4</td>\n",
       "      <td>A positively thrilling combination of ethnogra...</td>\n",
       "      <td>3</td>\n",
       "      <td>Somewhat Positive</td>\n",
       "    </tr>\n",
       "    <tr>\n",
       "      <th>156</th>\n",
       "      <td>157</td>\n",
       "      <td>5</td>\n",
       "      <td>Aggressive self-glorification and a manipulati...</td>\n",
       "      <td>1</td>\n",
       "      <td>Somewhat Negative</td>\n",
       "    </tr>\n",
       "    <tr>\n",
       "      <th>166</th>\n",
       "      <td>167</td>\n",
       "      <td>6</td>\n",
       "      <td>A comedy-drama of nearly epic proportions root...</td>\n",
       "      <td>4</td>\n",
       "      <td>Positive</td>\n",
       "    </tr>\n",
       "    <tr>\n",
       "      <th>198</th>\n",
       "      <td>199</td>\n",
       "      <td>7</td>\n",
       "      <td>Narratively , Trouble Every Day is a plodding ...</td>\n",
       "      <td>1</td>\n",
       "      <td>Somewhat Negative</td>\n",
       "    </tr>\n",
       "    <tr>\n",
       "      <th>213</th>\n",
       "      <td>214</td>\n",
       "      <td>8</td>\n",
       "      <td>The Importance of Being Earnest , so thick wit...</td>\n",
       "      <td>3</td>\n",
       "      <td>Somewhat Positive</td>\n",
       "    </tr>\n",
       "    <tr>\n",
       "      <th>247</th>\n",
       "      <td>248</td>\n",
       "      <td>9</td>\n",
       "      <td>But it does n't leave you with much .</td>\n",
       "      <td>1</td>\n",
       "      <td>Somewhat Negative</td>\n",
       "    </tr>\n",
       "    <tr>\n",
       "      <th>259</th>\n",
       "      <td>260</td>\n",
       "      <td>10</td>\n",
       "      <td>You could hate it for the same reason .</td>\n",
       "      <td>1</td>\n",
       "      <td>Somewhat Negative</td>\n",
       "    </tr>\n",
       "  </tbody>\n",
       "</table>\n",
       "</div>"
      ],
      "text/plain": [
       "     PhraseId  SentenceId  ... Sentiment    sentiment_label\n",
       "0           1           1  ...         1  Somewhat Negative\n",
       "63         64           2  ...         4           Positive\n",
       "81         82           3  ...         1  Somewhat Negative\n",
       "116       117           4  ...         3  Somewhat Positive\n",
       "156       157           5  ...         1  Somewhat Negative\n",
       "166       167           6  ...         4           Positive\n",
       "198       199           7  ...         1  Somewhat Negative\n",
       "213       214           8  ...         3  Somewhat Positive\n",
       "247       248           9  ...         1  Somewhat Negative\n",
       "259       260          10  ...         1  Somewhat Negative\n",
       "\n",
       "[10 rows x 5 columns]"
      ]
     },
     "execution_count": 6,
     "metadata": {
      "tags": []
     },
     "output_type": "execute_result"
    }
   ],
   "source": [
    "fullSent.head(10)"
   ]
  },
  {
   "cell_type": "code",
   "execution_count": 0,
   "metadata": {
    "colab": {},
    "colab_type": "code",
    "id": "a-4jYfw3VNJS"
   },
   "outputs": [],
   "source": [
    "import re\n",
    "from nltk.tokenize import sent_tokenize, word_tokenize\n",
    "from nltk.stem import PorterStemmer\n",
    "from nltk.stem import LancasterStemmer\n",
    "from nltk.stem.snowball import SnowballStemmer\n",
    "\n",
    "englishStemmer=SnowballStemmer(\"english\")\n",
    "porter = PorterStemmer()\n",
    "lancaster=LancasterStemmer()\n",
    "\n",
    "\n",
    "def stemSentence(sentence, stemmer):\n",
    "    token_words=word_tokenize(sentence)\n",
    "    token_words\n",
    "    stem_sentence=[]\n",
    "    for word in token_words:\n",
    "        stem_sentence.append(stemmer.stem(word))\n",
    "        stem_sentence.append(\" \")\n",
    "    return \"\".join(stem_sentence)\n",
    "\n",
    "def cleanText(text):\n",
    "  text = text.lower()\n",
    "  text = re.sub(r'[^\\w\\s]','',text)\n",
    "  text=text.replace('\\n',' ')\n",
    "  text = re.sub(r'[0-9]+', '', text)\n",
    "  text=text.strip()\n",
    "  text = stemSentence(text, lancaster)\n",
    "  return text"
   ]
  },
  {
   "cell_type": "code",
   "execution_count": 8,
   "metadata": {
    "colab": {
     "base_uri": "https://localhost:8080/",
     "height": 51
    },
    "colab_type": "code",
    "id": "sI8rjwh5YYaa",
    "outputId": "9b0e3fdb-da80-4735-ff26-3f5cb817b875"
   },
   "outputs": [
    {
     "name": "stdout",
     "output_type": "stream",
     "text": [
      "--- 30.83457064628601 seconds ---\n",
      "--- 3.2287089824676514 seconds ---\n"
     ]
    }
   ],
   "source": [
    "start_time = time.time()\n",
    "train['CleanPhrase']=train['Phrase'].apply(cleanText)\n",
    "print(\"--- %s seconds ---\" % (time.time() - start_time))\n",
    "\n",
    "start_time = time.time()\n",
    "fullSent['CleanPhrase']=fullSent['Phrase'].apply(cleanText)\n",
    "print(\"--- %s seconds ---\" % (time.time() - start_time))"
   ]
  },
  {
   "cell_type": "code",
   "execution_count": 8,
   "metadata": {
    "colab": {
     "base_uri": "https://localhost:8080/",
     "height": 119
    },
    "colab_type": "code",
    "id": "1fN8gSydCHrv",
    "outputId": "b71f4af4-19b0-4704-f999-a63ea502232f"
   },
   "outputs": [
    {
     "data": {
      "text/plain": [
       "CountVectorizer(analyzer='word', binary=False, decode_error='strict',\n",
       "                dtype=<class 'numpy.int64'>, encoding='utf-8', input='content',\n",
       "                lowercase=True, max_df=0.5, max_features=None, min_df=5,\n",
       "                ngram_range=(1, 3), preprocessor=None, stop_words=None,\n",
       "                strip_accents='unicode', token_pattern='(?u)\\\\b\\\\w\\\\w+\\\\b',\n",
       "                tokenizer=None, vocabulary=None)"
      ]
     },
     "execution_count": 8,
     "metadata": {
      "tags": []
     },
     "output_type": "execute_result"
    }
   ],
   "source": [
    "# Vectorize step\n",
    "BoW_vectorizer = CountVectorizer(strip_accents='unicode',\n",
    "                                 stop_words=None,\n",
    "                                 ngram_range=(1,3),\n",
    "                                 analyzer='word',\n",
    "                                 min_df=5,\n",
    "                                 max_df=0.5)\n",
    "\n",
    "#BoW_vectorizer.fit(list(fullSent['Phrase']))\n",
    "BoW_vectorizer.fit(list(train['Phrase']))\n",
    "#BoW_vectorizer.fit(list(train['CleanPhrase']))"
   ]
  },
  {
   "cell_type": "code",
   "execution_count": 9,
   "metadata": {
    "colab": {
     "base_uri": "https://localhost:8080/",
     "height": 136
    },
    "colab_type": "code",
    "id": "lCuHr-7TCMc_",
    "outputId": "8d90e27d-58d1-4236-e58a-5e7edc32545c"
   },
   "outputs": [
    {
     "data": {
      "text/plain": [
       "TfidfVectorizer(analyzer='word', binary=False, decode_error='strict',\n",
       "                dtype=<class 'numpy.float64'>, encoding='utf-8',\n",
       "                input='content', lowercase=True, max_df=0.5, max_features=None,\n",
       "                min_df=5, ngram_range=(1, 3), norm='l2', preprocessor=None,\n",
       "                smooth_idf=True, stop_words=None, strip_accents='unicode',\n",
       "                sublinear_tf=True, token_pattern='(?u)\\\\b\\\\w\\\\w+\\\\b',\n",
       "                tokenizer=None, use_idf=True, vocabulary=None)"
      ]
     },
     "execution_count": 9,
     "metadata": {
      "tags": []
     },
     "output_type": "execute_result"
    }
   ],
   "source": [
    "# TFIDF\n",
    "tfidf_vectorizer = TfidfVectorizer(min_df=5,\n",
    "                                   max_df=0.5,\n",
    "                                   analyzer='word',\n",
    "                                   strip_accents='unicode',\n",
    "                                   ngram_range=(1,3),\n",
    "                                   sublinear_tf=True,\n",
    "                                   smooth_idf=True,\n",
    "                                   use_idf=True,\n",
    "                                   stop_words=None)\n",
    "\n",
    "#tfidf_vectorizer.fit(list(fullSent['Phrase']))\n",
    "tfidf_vectorizer.fit(list(train['Phrase']))\n",
    "#tfidf_vectorizer.fit(list(train['CleanPhrase']))"
   ]
  },
  {
   "cell_type": "code",
   "execution_count": 10,
   "metadata": {
    "colab": {
     "base_uri": "https://localhost:8080/",
     "height": 34
    },
    "colab_type": "code",
    "id": "11Ck774wCOme",
    "outputId": "9b5a0002-39de-42fc-b5a5-4c506bfccf25"
   },
   "outputs": [
    {
     "data": {
      "text/plain": [
       "((124848,), (124848,), (31212,), (31212,))"
      ]
     },
     "execution_count": 10,
     "metadata": {
      "tags": []
     },
     "output_type": "execute_result"
    }
   ],
   "source": [
    "# Build train and test datasets\n",
    "#X_train, X_test, Y_train, Y_test = train_test_split(fullSent['Phrase'],\n",
    "#                                                    fullSent['Sentiment'],\n",
    "#                                                    test_size=0.2,\n",
    "#                                                    random_state=4)\n",
    "\n",
    "\n",
    "X_train, X_test, Y_train, Y_test = train_test_split(train['Phrase'],\n",
    "                                                    train['Sentiment'],\n",
    "                                                    test_size=0.2,\n",
    "                                                    random_state=4)\n",
    "\n",
    "X_train.shape, Y_train.shape, X_test.shape, Y_test.shape"
   ]
  },
  {
   "cell_type": "code",
   "execution_count": 0,
   "metadata": {
    "colab": {},
    "colab_type": "code",
    "id": "R5rhnZs8zySf"
   },
   "outputs": [],
   "source": [
    "# BoW\n",
    "train_bow = BoW_vectorizer.transform(X_train)\n",
    "test_bow = BoW_vectorizer.transform(X_test)"
   ]
  },
  {
   "cell_type": "code",
   "execution_count": 0,
   "metadata": {
    "colab": {},
    "colab_type": "code",
    "id": "4Q9X-Si4AxRU"
   },
   "outputs": [],
   "source": [
    "\n",
    "\n",
    "# TFIDF\n",
    "train_tfidf = tfidf_vectorizer.transform(X_train)\n",
    "test_tfidf = tfidf_vectorizer.transform(X_test)"
   ]
  },
  {
   "cell_type": "code",
   "execution_count": 13,
   "metadata": {
    "colab": {
     "base_uri": "https://localhost:8080/",
     "height": 51
    },
    "colab_type": "code",
    "id": "IZRWJf9pDV5K",
    "outputId": "865fbfcf-96f0-41dc-d54e-41069012d034"
   },
   "outputs": [
    {
     "data": {
      "text/plain": [
       "<124848x258673 sparse matrix of type '<class 'numpy.int64'>'\n",
       "\twith 2604467 stored elements in Compressed Sparse Row format>"
      ]
     },
     "execution_count": 13,
     "metadata": {
      "tags": []
     },
     "output_type": "execute_result"
    }
   ],
   "source": [
    "train_bow"
   ]
  },
  {
   "cell_type": "code",
   "execution_count": 0,
   "metadata": {
    "colab": {},
    "colab_type": "code",
    "id": "aeAXfLYHEdJr"
   },
   "outputs": [],
   "source": [
    "bow_feature_vec = pd.DataFrame(test_bow.toarray(), columns=BoW_vectorizer.get_feature_names())\n",
    "bow_feature_vec.head(15)"
   ]
  },
  {
   "cell_type": "code",
   "execution_count": 0,
   "metadata": {
    "colab": {},
    "colab_type": "code",
    "id": "VMaXndcEDYWg"
   },
   "outputs": [],
   "source": [
    "# Helper function to train and predict\n",
    "def train_model_predict(classifier, train_features, train_labels, test_features):\n",
    "  classifier.fit(train_features, train_labels)\n",
    "  predictions = classifier.predict(test_features)\n",
    "  return predictions"
   ]
  },
  {
   "cell_type": "code",
   "execution_count": 0,
   "metadata": {
    "colab": {},
    "colab_type": "code",
    "id": "MfIXcSojEC1K"
   },
   "outputs": [],
   "source": [
    "# Naive bayes model\n",
    "MNB = MultinomialNB()\n",
    "\n",
    "MNB_TFIDF_y_ = train_model_predict(MNB, train_tfidf, Y_train, test_tfidf)\n",
    "MNB_BoW_y_ = train_model_predict(MNB, train_bow, Y_train, test_bow)"
   ]
  },
  {
   "cell_type": "code",
   "execution_count": 15,
   "metadata": {
    "colab": {
     "base_uri": "https://localhost:8080/",
     "height": 221
    },
    "colab_type": "code",
    "id": "gAWRdQtcEE5y",
    "outputId": "6d85f7b7-4a7c-42bf-bfb3-1e94f22a3a5c"
   },
   "outputs": [
    {
     "name": "stdout",
     "output_type": "stream",
     "text": [
      "Evaluation for LR TFIDF:\n",
      "Accuracy: 0.6332\n",
      "Precision: 0.6224\n",
      "Recall: 0.6332\n",
      "F1 Score: 0.5978\n",
      "\n",
      "Evaluation for LR BoW:\n",
      "Accuracy: 0.6597\n",
      "Precision: 0.6448\n",
      "Recall: 0.6597\n",
      "F1 Score: 0.6441\n",
      "\n"
     ]
    }
   ],
   "source": [
    "# Logistic regression model\n",
    "LR = LogisticRegression(solver='liblinear',\n",
    "                        multi_class='ovr')\n",
    "\n",
    "LR_TFIDF_y_ = train_model_predict(LR, train_tfidf, Y_train, test_tfidf)\n",
    "LR_BoW_y_ = train_model_predict(LR, train_bow, Y_train, test_bow)\n",
    "\n",
    "\n",
    "print(\"Evaluation for LR TFIDF:\")\n",
    "get_metrics(Y_test, LR_TFIDF_y_, test_tfidf)\n",
    "print(\"\")\n",
    "\n",
    "print(\"Evaluation for LR BoW:\")\n",
    "get_metrics(Y_test, LR_BoW_y_, test_bow)\n",
    "print(\"\")"
   ]
  },
  {
   "cell_type": "code",
   "execution_count": 0,
   "metadata": {
    "colab": {},
    "colab_type": "code",
    "id": "5qx7EftZEHhC"
   },
   "outputs": [],
   "source": [
    "# Performance evaluation\n",
    "# See 'Tensorflow Precision'\n",
    "def get_metrics(true_labels, predicted_labels, feature):\n",
    "  #print(feature)\n",
    "  print('Accuracy:', np.round(metrics.accuracy_score(true_labels, predicted_labels), 4))\n",
    "  print('Precision:', np.round(metrics.precision_score(true_labels, predicted_labels, average='weighted'), 4))\n",
    "  print('Recall:', np.round(metrics.recall_score(true_labels, predicted_labels, average='weighted'), 4))\n",
    "  print('F1 Score:', np.round(metrics.f1_score(true_labels, predicted_labels, average='weighted'), 4))"
   ]
  },
  {
   "cell_type": "code",
   "execution_count": 17,
   "metadata": {
    "colab": {
     "base_uri": "https://localhost:8080/",
     "height": 452
    },
    "colab_type": "code",
    "id": "873IJt1aEJK6",
    "outputId": "2f41d598-2e36-4ae9-b3b6-1736fd9ba430"
   },
   "outputs": [
    {
     "name": "stdout",
     "output_type": "stream",
     "text": [
      "Evaluation for MNB TFIDF:\n",
      "Accuracy: 0.6231\n",
      "Precision: 0.6163\n",
      "Recall: 0.6231\n",
      "F1 Score: 0.5819\n",
      "\n",
      "Evaluation for MNB BoW:\n",
      "Accuracy: 0.5704\n",
      "Precision: 0.5946\n",
      "Recall: 0.5704\n",
      "F1 Score: 0.579\n",
      "\n",
      "Evaluation for LR TFIDF:\n"
     ]
    },
    {
     "ename": "NameError",
     "evalue": "ignored",
     "output_type": "error",
     "traceback": [
      "\u001b[0;31m---------------------------------------------------------------------------\u001b[0m",
      "\u001b[0;31mNameError\u001b[0m                                 Traceback (most recent call last)",
      "\u001b[0;32m<ipython-input-17-7dca7124e98c>\u001b[0m in \u001b[0;36m<module>\u001b[0;34m()\u001b[0m\n\u001b[1;32m      8\u001b[0m \u001b[0;34m\u001b[0m\u001b[0m\n\u001b[1;32m      9\u001b[0m \u001b[0mprint\u001b[0m\u001b[0;34m(\u001b[0m\u001b[0;34m\"Evaluation for LR TFIDF:\"\u001b[0m\u001b[0;34m)\u001b[0m\u001b[0;34m\u001b[0m\u001b[0;34m\u001b[0m\u001b[0m\n\u001b[0;32m---> 10\u001b[0;31m \u001b[0mget_metrics\u001b[0m\u001b[0;34m(\u001b[0m\u001b[0mY_test\u001b[0m\u001b[0;34m,\u001b[0m \u001b[0mLR_TFIDF_y_\u001b[0m\u001b[0;34m,\u001b[0m \u001b[0mtest_tfidf\u001b[0m\u001b[0;34m)\u001b[0m\u001b[0;34m\u001b[0m\u001b[0;34m\u001b[0m\u001b[0m\n\u001b[0m\u001b[1;32m     11\u001b[0m \u001b[0mprint\u001b[0m\u001b[0;34m(\u001b[0m\u001b[0;34m\"\"\u001b[0m\u001b[0;34m)\u001b[0m\u001b[0;34m\u001b[0m\u001b[0;34m\u001b[0m\u001b[0m\n\u001b[1;32m     12\u001b[0m \u001b[0;34m\u001b[0m\u001b[0m\n",
      "\u001b[0;31mNameError\u001b[0m: name 'LR_TFIDF_y_' is not defined"
     ]
    }
   ],
   "source": [
    "# Evaluate each model\n",
    "print(\"Evaluation for MNB TFIDF:\")\n",
    "get_metrics(Y_test, MNB_TFIDF_y_, test_tfidf)\n",
    "print(\"\")\n",
    "\n",
    "print(\"Evaluation for MNB BoW:\")\n",
    "get_metrics(Y_test, MNB_BoW_y_, test_bow)\n",
    "print(\"\")\n"
   ]
  },
  {
   "cell_type": "code",
   "execution_count": 0,
   "metadata": {
    "colab": {},
    "colab_type": "code",
    "id": "9wA7HQmHERRi"
   },
   "outputs": [],
   "source": [
    "train_tfidf_mat = train_tfidf.toarray()\n",
    "\n",
    "print(type(train_tfidf))"
   ]
  },
  {
   "cell_type": "code",
   "execution_count": 0,
   "metadata": {
    "colab": {},
    "colab_type": "code",
    "id": "3KTaDQ7La3_7"
   },
   "outputs": [],
   "source": [
    "train_tfidf_mat.shape"
   ]
  },
  {
   "cell_type": "code",
   "execution_count": 0,
   "metadata": {
    "colab": {},
    "colab_type": "code",
    "id": "v466R2VUapKj"
   },
   "outputs": [],
   "source": []
  },
  {
   "cell_type": "code",
   "execution_count": 0,
   "metadata": {
    "colab": {},
    "colab_type": "code",
    "id": "TtDwvhFxE6PU"
   },
   "outputs": [],
   "source": [
    "max_features = train_tfidf.shape[1]\n",
    "maxlen = 400\n",
    "batch_size = 32\n",
    "embedding_dims = 50\n",
    "\n",
    "\n",
    "# Simple CNN model\n",
    "# Can be any size you want but limited to 100 epochs\n",
    "# Random seed must be 4\n",
    "# Won't work at the moment, need all of the imports\n",
    "def baseline_cnn_model(fea_matrix, n_class, mode, compiler):\n",
    "  model = Sequential()\n",
    "  #model.add(Embedding(max_features,\n",
    "  #                  embedding_dims,\n",
    "  #                  input_length=maxlen))\n",
    "  model.add(Reshape((fea_matrix.shape[1],1), input_shape=(fea_matrix.shape[1],)))\n",
    "  model.add(Conv1D(filters=32, kernel_size=10, activation='relu'))\n",
    "  #print(model_m.summary())\n",
    "  #model.add(Conv1D(filters=64, kernal_size=3, activation='relu'))\n",
    "  model.add(MaxPooling1D(pool_size=2))\n",
    "  #model.add(Conv1D(filters=128, kernel_size=10, activation='relu'))\n",
    "  #model.add(MaxPooling1D(pool_size=2))\n",
    "  model.add(Flatten())\n",
    "  model.add(Activation('relu'))\n",
    "  #model.add(Dense(64))\n",
    "  #model.add(Dropout(0.2))\n",
    "  #model.add(Activation('relu'))\n",
    "  model.add(Dense(n_class))\n",
    "  \n",
    "  if n_class == 1 and mode == \"reg\":\n",
    "    # Compile the model\n",
    "    model.compile(optimizer=compiler, loss='mse', metrics=['acc', f1_m, precision_m, recall_m])\n",
    "    #model.compile(optimizer=compiler, loss='mse')\n",
    "  elif n_class == 1 and mode == \"cla\":\n",
    "    model.add(Activation('sigmoid'))\n",
    "    # Compile the model\n",
    "    model.compile(optimizer=compiler, loss='binary_crossentropy', metrics=['acc',f1_m, precision_m, recall_m])\n",
    "  else:\n",
    "    model.add(Activation(\"softmax\"))\n",
    "    model.compile(optimizer=compiler, loss='categorical_crossentropy', metrics=['acc',f1_m, precision_m, recall_m])\n",
    "  \n",
    "  return model"
   ]
  },
  {
   "cell_type": "code",
   "execution_count": 0,
   "metadata": {
    "colab": {},
    "colab_type": "code",
    "id": "whVYXETnE-3U"
   },
   "outputs": [],
   "source": [
    "#model hyper params\n",
    "lr = 1e-3\n",
    "batch_size = 32\n",
    "num_epochs = 100\n",
    "decay = 1e-4\n",
    "mode = \"reg\"\n",
    "n_class = 1\n",
    "\n",
    "adm = optimizers.Adam(lr=lr, decay=decay)\n",
    "sgd = optimizers.SGD(lr=lr, nesterov=True, momentum=0.7, decay=decay)\n",
    "nadam = optimizers.Nadam(lr=lr, beta_1=0.9, beta_2=0.999, epsilon=1e-08)\n"
   ]
  },
  {
   "cell_type": "code",
   "execution_count": 0,
   "metadata": {
    "colab": {},
    "colab_type": "code",
    "id": "fw8lsDtt_6BH"
   },
   "outputs": [],
   "source": [
    "train_bow_rs = train_bow.reshape(train_bow.shape[0],1,train_bow.shape[1],1)\n",
    "test_bow_rs = test_bow.reshape(test_bow.shape[0],1,test_bow.shape[1],1)"
   ]
  },
  {
   "cell_type": "code",
   "execution_count": 0,
   "metadata": {
    "colab": {},
    "colab_type": "code",
    "id": "PZ9x0sdm6pGW"
   },
   "outputs": [],
   "source": [
    "#train_bow_rs = train_bow_rs.toarray()"
   ]
  },
  {
   "cell_type": "code",
   "execution_count": 0,
   "metadata": {
    "colab": {},
    "colab_type": "code",
    "id": "Deh-QtykBGLY"
   },
   "outputs": [],
   "source": [
    "#train_bow_rs = train_bow_rs.reshape(train_bow_rs.shape[0], 1, train_bow_rs.shape[1])"
   ]
  },
  {
   "cell_type": "code",
   "execution_count": 0,
   "metadata": {
    "colab": {
     "base_uri": "https://localhost:8080/",
     "height": 34
    },
    "colab_type": "code",
    "id": "zBlbHwaj6kFC",
    "outputId": "b17495a9-cff6-4682-8c52-49c52d5db93f"
   },
   "outputs": [
    {
     "data": {
      "text/plain": [
       "(6823, 6946)"
      ]
     },
     "execution_count": 59,
     "metadata": {
      "tags": []
     },
     "output_type": "execute_result"
    }
   ],
   "source": [
    "train_bow_rs.shape"
   ]
  },
  {
   "cell_type": "code",
   "execution_count": 33,
   "metadata": {
    "colab": {
     "base_uri": "https://localhost:8080/",
     "height": 34
    },
    "colab_type": "code",
    "id": "f4l7OSRIALQS",
    "outputId": "9977c214-65bd-47ee-9aec-95399674cd2b"
   },
   "outputs": [
    {
     "name": "stdout",
     "output_type": "stream",
     "text": [
      "<bound method Network.summary of <keras.engine.sequential.Sequential object at 0x7fb7e9b1b7b8>>\n"
     ]
    }
   ],
   "source": [
    "model = baseline_cnn_model(train_bow_rs, n_class, mode, nadam)\n",
    "print(model.summary)"
   ]
  },
  {
   "cell_type": "code",
   "execution_count": 0,
   "metadata": {
    "colab": {
     "base_uri": "https://localhost:8080/",
     "height": 34
    },
    "colab_type": "code",
    "id": "tKuLFn4FlszO",
    "outputId": "95f6d964-934d-4147-caf9-22bc22460cbe"
   },
   "outputs": [
    {
     "data": {
      "text/plain": [
       "(1706,)"
      ]
     },
     "execution_count": 30,
     "metadata": {
      "tags": []
     },
     "output_type": "execute_result"
    }
   ],
   "source": [
    "Y_test.shape"
   ]
  },
  {
   "cell_type": "code",
   "execution_count": 34,
   "metadata": {
    "colab": {
     "base_uri": "https://localhost:8080/",
     "height": 1000
    },
    "colab_type": "code",
    "id": "uDc8xpQHVK59",
    "outputId": "e832dcc7-a4ce-4f2e-e060-d0ab19438895"
   },
   "outputs": [
    {
     "name": "stdout",
     "output_type": "stream",
     "text": [
      "Train on 99878 samples, validate on 24970 samples\n",
      "Epoch 1/100\n",
      "99878/99878 [==============================] - 462s 5ms/step - loss: 1.3378 - acc: 0.5047 - f1_m: 0.9597 - precision_m: 490199.0407 - recall_m: 0.9609 - val_loss: 0.6113 - val_acc: 0.4986 - val_f1_m: 0.9764 - val_precision_m: 0.9553 - val_recall_m: 0.9993\n",
      "Epoch 2/100\n",
      "99878/99878 [==============================] - 461s 5ms/step - loss: 0.3658 - acc: 0.6267 - f1_m: 0.9781 - precision_m: 0.9626 - recall_m: 0.9948 - val_loss: 0.6941 - val_acc: 0.3930 - val_f1_m: 0.9766 - val_precision_m: 0.9550 - val_recall_m: 0.9999\n",
      "Epoch 3/100\n",
      "99878/99878 [==============================] - 461s 5ms/step - loss: 0.3103 - acc: 0.6668 - f1_m: 0.9794 - precision_m: 0.9660 - recall_m: 0.9938 - val_loss: 0.4057 - val_acc: 0.6079 - val_f1_m: 0.9772 - val_precision_m: 0.9680 - val_recall_m: 0.9873\n",
      "Epoch 4/100\n",
      "99878/99878 [==============================] - 461s 5ms/step - loss: 0.5154 - acc: 0.6377 - f1_m: 0.9767 - precision_m: 0.9717 - recall_m: 0.9834 - val_loss: 0.4367 - val_acc: 0.5751 - val_f1_m: 0.9750 - val_precision_m: 0.9663 - val_recall_m: 0.9848\n",
      "Epoch 5/100\n",
      "99878/99878 [==============================] - 462s 5ms/step - loss: 0.2631 - acc: 0.7044 - f1_m: 0.9799 - precision_m: 0.9693 - recall_m: 0.9915 - val_loss: 0.3900 - val_acc: 0.6113 - val_f1_m: 0.9772 - val_precision_m: 0.9654 - val_recall_m: 0.9899\n",
      "Epoch 6/100\n",
      "99878/99878 [==============================] - 461s 5ms/step - loss: 0.2318 - acc: 0.7374 - f1_m: 0.9814 - precision_m: 0.9703 - recall_m: 0.9933 - val_loss: 0.3863 - val_acc: 0.6130 - val_f1_m: 0.9770 - val_precision_m: 0.9649 - val_recall_m: 0.9902\n",
      "Epoch 7/100\n",
      "99878/99878 [==============================] - 461s 5ms/step - loss: 0.2159 - acc: 0.7583 - f1_m: 0.9819 - precision_m: 0.9722 - recall_m: 0.9929 - val_loss: 0.3875 - val_acc: 0.6172 - val_f1_m: 0.9771 - val_precision_m: 0.9666 - val_recall_m: 0.9886\n",
      "Epoch 8/100\n",
      "99878/99878 [==============================] - 461s 5ms/step - loss: 0.1983 - acc: 0.7779 - f1_m: 0.9830 - precision_m: 0.9731 - recall_m: 0.9937 - val_loss: 0.3934 - val_acc: 0.6166 - val_f1_m: 0.9764 - val_precision_m: 0.9693 - val_recall_m: 0.9844\n",
      "Epoch 9/100\n",
      "99878/99878 [==============================] - 460s 5ms/step - loss: 0.2037 - acc: 0.7922 - f1_m: 0.9833 - precision_m: 0.9742 - recall_m: 0.9932 - val_loss: 0.4021 - val_acc: 0.6113 - val_f1_m: 0.9767 - val_precision_m: 0.9689 - val_recall_m: 0.9855\n",
      "Epoch 10/100\n",
      "99878/99878 [==============================] - 460s 5ms/step - loss: 0.1766 - acc: 0.8015 - f1_m: 0.9841 - precision_m: 0.9754 - recall_m: 0.9934 - val_loss: 0.4089 - val_acc: 0.6050 - val_f1_m: 0.9765 - val_precision_m: 0.9712 - val_recall_m: 0.9826\n",
      "Epoch 11/100\n",
      "99878/99878 [==============================] - 460s 5ms/step - loss: 0.2099 - acc: 0.8060 - f1_m: 0.9839 - precision_m: 0.9755 - recall_m: 0.9930 - val_loss: 0.4095 - val_acc: 0.6091 - val_f1_m: 0.9763 - val_precision_m: 0.9690 - val_recall_m: 0.9846\n",
      "Epoch 12/100\n",
      "99878/99878 [==============================] - 461s 5ms/step - loss: 0.1645 - acc: 0.8187 - f1_m: 0.9848 - precision_m: 0.9769 - recall_m: 0.9933 - val_loss: 0.4114 - val_acc: 0.6063 - val_f1_m: 0.9760 - val_precision_m: 0.9699 - val_recall_m: 0.9829\n",
      "Epoch 13/100\n",
      "99878/99878 [==============================] - 458s 5ms/step - loss: 0.1549 - acc: 0.8234 - f1_m: 0.9853 - precision_m: 0.9776 - recall_m: 0.9936 - val_loss: 0.4212 - val_acc: 0.6021 - val_f1_m: 0.9762 - val_precision_m: 0.9707 - val_recall_m: 0.9826\n",
      "Epoch 14/100\n",
      "99878/99878 [==============================] - 460s 5ms/step - loss: 0.1684 - acc: 0.8314 - f1_m: 0.9856 - precision_m: 0.9779 - recall_m: 0.9939 - val_loss: 0.4224 - val_acc: 0.6016 - val_f1_m: 0.9761 - val_precision_m: 0.9705 - val_recall_m: 0.9826\n",
      "Epoch 15/100\n",
      "99878/99878 [==============================] - 461s 5ms/step - loss: 0.1527 - acc: 0.8368 - f1_m: 0.9861 - precision_m: 0.9789 - recall_m: 0.9940 - val_loss: 0.4349 - val_acc: 0.5963 - val_f1_m: 0.9758 - val_precision_m: 0.9714 - val_recall_m: 0.9810\n",
      "Epoch 16/100\n",
      "99878/99878 [==============================] - 460s 5ms/step - loss: 0.1726 - acc: 0.8398 - f1_m: 0.9866 - precision_m: 0.9800 - recall_m: 0.9937 - val_loss: 0.4441 - val_acc: 0.5897 - val_f1_m: 0.9757 - val_precision_m: 0.9723 - val_recall_m: 0.9801\n",
      "Epoch 17/100\n",
      "99878/99878 [==============================] - 462s 5ms/step - loss: 0.1377 - acc: 0.8421 - f1_m: 0.9867 - precision_m: 0.9798 - recall_m: 0.9940 - val_loss: 0.4381 - val_acc: 0.5916 - val_f1_m: 0.9756 - val_precision_m: 0.9718 - val_recall_m: 0.9803\n",
      "Epoch 18/100\n",
      "99878/99878 [==============================] - 461s 5ms/step - loss: 0.1347 - acc: 0.8464 - f1_m: 0.9868 - precision_m: 0.9800 - recall_m: 0.9942 - val_loss: 0.4455 - val_acc: 0.5897 - val_f1_m: 0.9753 - val_precision_m: 0.9725 - val_recall_m: 0.9792\n",
      "Epoch 19/100\n",
      "99878/99878 [==============================] - 463s 5ms/step - loss: 0.1443 - acc: 0.8496 - f1_m: 0.9869 - precision_m: 0.9808 - recall_m: 0.9936 - val_loss: 0.4578 - val_acc: 0.5848 - val_f1_m: 0.9753 - val_precision_m: 0.9715 - val_recall_m: 0.9801\n",
      "Epoch 20/100\n",
      "99878/99878 [==============================] - 461s 5ms/step - loss: 0.1255 - acc: 0.8564 - f1_m: 0.9877 - precision_m: 0.9819 - recall_m: 0.9939 - val_loss: 0.4562 - val_acc: 0.5863 - val_f1_m: 0.9751 - val_precision_m: 0.9732 - val_recall_m: 0.9778\n",
      "Epoch 21/100\n",
      "99878/99878 [==============================] - 462s 5ms/step - loss: 0.1242 - acc: 0.8568 - f1_m: 0.9875 - precision_m: 0.9815 - recall_m: 0.9940 - val_loss: 0.4581 - val_acc: 0.5849 - val_f1_m: 0.9751 - val_precision_m: 0.9735 - val_recall_m: 0.9777\n",
      "Epoch 22/100\n",
      "99878/99878 [==============================] - 460s 5ms/step - loss: 0.1234 - acc: 0.8578 - f1_m: 0.9877 - precision_m: 0.9817 - recall_m: 0.9941 - val_loss: 0.4655 - val_acc: 0.5819 - val_f1_m: 0.9749 - val_precision_m: 0.9735 - val_recall_m: 0.9773\n",
      "Epoch 23/100\n",
      "99878/99878 [==============================] - 462s 5ms/step - loss: 0.1352 - acc: 0.8606 - f1_m: 0.9876 - precision_m: 0.9818 - recall_m: 0.9940 - val_loss: 0.4674 - val_acc: 0.5805 - val_f1_m: 0.9749 - val_precision_m: 0.9734 - val_recall_m: 0.9772\n",
      "Epoch 24/100\n",
      "99878/99878 [==============================] - 462s 5ms/step - loss: 0.1147 - acc: 0.8664 - f1_m: 0.9882 - precision_m: 0.9828 - recall_m: 0.9941 - val_loss: 0.4755 - val_acc: 0.5758 - val_f1_m: 0.9739 - val_precision_m: 0.9741 - val_recall_m: 0.9746\n",
      "Epoch 25/100\n",
      "99878/99878 [==============================] - 461s 5ms/step - loss: 0.1159 - acc: 0.8650 - f1_m: 0.9882 - precision_m: 0.9828 - recall_m: 0.9941 - val_loss: 0.4847 - val_acc: 0.5754 - val_f1_m: 0.9748 - val_precision_m: 0.9751 - val_recall_m: 0.9754\n",
      "Epoch 26/100\n",
      "99878/99878 [==============================] - 462s 5ms/step - loss: 0.1386 - acc: 0.8676 - f1_m: 0.9883 - precision_m: 0.9831 - recall_m: 0.9940 - val_loss: 0.4758 - val_acc: 0.5747 - val_f1_m: 0.9743 - val_precision_m: 0.9738 - val_recall_m: 0.9757\n",
      "Epoch 27/100\n",
      "99878/99878 [==============================] - 460s 5ms/step - loss: 0.1102 - acc: 0.8720 - f1_m: 0.9888 - precision_m: 0.9837 - recall_m: 0.9943 - val_loss: 0.4954 - val_acc: 0.5689 - val_f1_m: 0.9746 - val_precision_m: 0.9746 - val_recall_m: 0.9755\n",
      "Epoch 28/100\n",
      "99878/99878 [==============================] - 461s 5ms/step - loss: 0.1105 - acc: 0.8709 - f1_m: 0.9887 - precision_m: 0.9834 - recall_m: 0.9945 - val_loss: 0.4853 - val_acc: 0.5722 - val_f1_m: 0.9746 - val_precision_m: 0.9734 - val_recall_m: 0.9768\n",
      "Epoch 29/100\n",
      "99878/99878 [==============================] - 462s 5ms/step - loss: 0.1142 - acc: 0.8733 - f1_m: 0.9885 - precision_m: 6408.8008 - recall_m: 0.9942 - val_loss: 0.4897 - val_acc: 0.5718 - val_f1_m: 0.9749 - val_precision_m: 0.9745 - val_recall_m: 0.9762\n",
      "Epoch 30/100\n",
      "99878/99878 [==============================] - 464s 5ms/step - loss: 0.1257 - acc: 0.8769 - f1_m: 0.9887 - precision_m: 0.9829 - recall_m: 0.9950 - val_loss: 0.4937 - val_acc: 0.5714 - val_f1_m: 0.9743 - val_precision_m: 0.9746 - val_recall_m: 0.9749\n",
      "Epoch 31/100\n",
      "99878/99878 [==============================] - 462s 5ms/step - loss: 0.1042 - acc: 0.8773 - f1_m: 0.9891 - precision_m: 0.9841 - recall_m: 0.9946 - val_loss: 0.4992 - val_acc: 0.5704 - val_f1_m: 0.9740 - val_precision_m: 0.9753 - val_recall_m: 0.9738\n",
      "Epoch 32/100\n",
      "99878/99878 [==============================] - 462s 5ms/step - loss: 0.1047 - acc: 0.8775 - f1_m: 0.9892 - precision_m: 0.9844 - recall_m: 0.9946 - val_loss: 0.5013 - val_acc: 0.5691 - val_f1_m: 0.9739 - val_precision_m: 0.9747 - val_recall_m: 0.9740\n",
      "Epoch 33/100\n",
      "99878/99878 [==============================] - 461s 5ms/step - loss: 0.1354 - acc: 0.8778 - f1_m: 0.9893 - precision_m: 0.9846 - recall_m: 0.9944 - val_loss: 0.4964 - val_acc: 0.5677 - val_f1_m: 0.9741 - val_precision_m: 0.9748 - val_recall_m: 0.9744\n",
      "Epoch 34/100\n",
      "99878/99878 [==============================] - 466s 5ms/step - loss: 0.0996 - acc: 0.8823 - f1_m: 0.9896 - precision_m: 0.9850 - recall_m: 0.9946 - val_loss: 0.5192 - val_acc: 0.5633 - val_f1_m: 0.9735 - val_precision_m: 0.9748 - val_recall_m: 0.9732\n",
      "Epoch 35/100\n",
      "99878/99878 [==============================] - 461s 5ms/step - loss: 0.1003 - acc: 0.8826 - f1_m: 0.9894 - precision_m: 0.9847 - recall_m: 0.9945 - val_loss: 0.5065 - val_acc: 0.5657 - val_f1_m: 0.9746 - val_precision_m: 0.9757 - val_recall_m: 0.9744\n",
      "Epoch 36/100\n",
      "99878/99878 [==============================] - 467s 5ms/step - loss: 0.1177 - acc: 0.8820 - f1_m: 0.9897 - precision_m: 0.9851 - recall_m: 0.9946 - val_loss: 0.4982 - val_acc: 0.5688 - val_f1_m: 0.9741 - val_precision_m: 0.9755 - val_recall_m: 0.9736\n",
      "Epoch 37/100\n",
      "99878/99878 [==============================] - 468s 5ms/step - loss: 0.0998 - acc: 0.8826 - f1_m: 0.9895 - precision_m: 0.9846 - recall_m: 0.9948 - val_loss: 0.5179 - val_acc: 0.5646 - val_f1_m: 0.9735 - val_precision_m: 0.9752 - val_recall_m: 0.9728\n",
      "Epoch 38/100\n",
      "99878/99878 [==============================] - 465s 5ms/step - loss: 0.0977 - acc: 0.8845 - f1_m: 0.9899 - precision_m: 0.9856 - recall_m: 0.9946 - val_loss: 0.5293 - val_acc: 0.5583 - val_f1_m: 0.9736 - val_precision_m: 0.9749 - val_recall_m: 0.9733\n",
      "Epoch 39/100\n",
      "99878/99878 [==============================] - 463s 5ms/step - loss: 0.0987 - acc: 0.8844 - f1_m: 0.9897 - precision_m: 0.9852 - recall_m: 0.9947 - val_loss: 0.5285 - val_acc: 0.5604 - val_f1_m: 0.9735 - val_precision_m: 0.9756 - val_recall_m: 0.9725\n",
      "Epoch 40/100\n",
      "99878/99878 [==============================] - 465s 5ms/step - loss: 0.0965 - acc: 0.8868 - f1_m: 0.9900 - precision_m: 0.9855 - recall_m: 0.9948 - val_loss: 0.5277 - val_acc: 0.5598 - val_f1_m: 0.9735 - val_precision_m: 0.9756 - val_recall_m: 0.9724\n",
      "Epoch 41/100\n",
      "99878/99878 [==============================] - 462s 5ms/step - loss: 0.0961 - acc: 0.8863 - f1_m: 0.9898 - precision_m: 0.9855 - recall_m: 0.9945 - val_loss: 0.5367 - val_acc: 0.5575 - val_f1_m: 0.9732 - val_precision_m: 0.9754 - val_recall_m: 0.9720\n",
      "Epoch 42/100\n",
      "99878/99878 [==============================] - 463s 5ms/step - loss: 0.1010 - acc: 0.8869 - f1_m: 0.9898 - precision_m: 0.9857 - recall_m: 0.9946 - val_loss: 0.5362 - val_acc: 0.5575 - val_f1_m: 0.9730 - val_precision_m: 0.9757 - val_recall_m: 0.9715\n",
      "Epoch 43/100\n",
      "99878/99878 [==============================] - 462s 5ms/step - loss: 0.0924 - acc: 0.8898 - f1_m: 0.9902 - precision_m: 0.9862 - recall_m: 0.9946 - val_loss: 0.5493 - val_acc: 0.5547 - val_f1_m: 0.9731 - val_precision_m: 0.9763 - val_recall_m: 0.9710\n",
      "Epoch 44/100\n",
      "99878/99878 [==============================] - 462s 5ms/step - loss: 0.0934 - acc: 0.8893 - f1_m: 0.9901 - precision_m: 0.9860 - recall_m: 0.9945 - val_loss: 0.5262 - val_acc: 0.5598 - val_f1_m: 0.9741 - val_precision_m: 0.9755 - val_recall_m: 0.9737\n",
      "Epoch 45/100\n",
      "99878/99878 [==============================] - 463s 5ms/step - loss: 0.0969 - acc: 0.8892 - f1_m: 0.9901 - precision_m: 0.9860 - recall_m: 0.9947 - val_loss: 0.5427 - val_acc: 0.5555 - val_f1_m: 0.9732 - val_precision_m: 0.9755 - val_recall_m: 0.9719\n",
      "Epoch 46/100\n",
      "99878/99878 [==============================] - 463s 5ms/step - loss: 0.1149 - acc: 0.8922 - f1_m: 0.9901 - precision_m: 0.9858 - recall_m: 0.9948 - val_loss: 0.5438 - val_acc: 0.5573 - val_f1_m: 0.9730 - val_precision_m: 0.9750 - val_recall_m: 0.9720\n",
      "Epoch 47/100\n",
      "99878/99878 [==============================] - 463s 5ms/step - loss: 0.0904 - acc: 0.8923 - f1_m: 0.9905 - precision_m: 0.9862 - recall_m: 0.9951 - val_loss: 0.5544 - val_acc: 0.5530 - val_f1_m: 0.9725 - val_precision_m: 0.9757 - val_recall_m: 0.9703\n",
      "Epoch 48/100\n",
      "99878/99878 [==============================] - 465s 5ms/step - loss: 0.0908 - acc: 0.8926 - f1_m: 0.9904 - precision_m: 0.9862 - recall_m: 0.9949 - val_loss: 0.5531 - val_acc: 0.5533 - val_f1_m: 0.9724 - val_precision_m: 0.9770 - val_recall_m: 0.9689\n",
      "Epoch 49/100\n",
      "99878/99878 [==============================] - 464s 5ms/step - loss: 0.0909 - acc: 0.8925 - f1_m: 0.9907 - precision_m: 0.9867 - recall_m: 0.9950 - val_loss: 0.5638 - val_acc: 0.5492 - val_f1_m: 0.9722 - val_precision_m: 0.9772 - val_recall_m: 0.9683\n",
      "Epoch 50/100\n",
      "99878/99878 [==============================] - 464s 5ms/step - loss: 0.0896 - acc: 0.8932 - f1_m: 0.9907 - precision_m: 0.9870 - recall_m: 0.9947 - val_loss: 0.5565 - val_acc: 0.5512 - val_f1_m: 0.9731 - val_precision_m: 0.9768 - val_recall_m: 0.9706\n",
      "Epoch 51/100\n",
      "99878/99878 [==============================] - 464s 5ms/step - loss: 0.1031 - acc: 0.8935 - f1_m: 0.9902 - precision_m: 0.9862 - recall_m: 0.9946 - val_loss: 0.5596 - val_acc: 0.5509 - val_f1_m: 0.9728 - val_precision_m: 0.9771 - val_recall_m: 0.9697\n",
      "Epoch 52/100\n",
      "99878/99878 [==============================] - 463s 5ms/step - loss: 0.0960 - acc: 0.8947 - f1_m: 0.9907 - precision_m: 0.9871 - recall_m: 0.9947 - val_loss: 0.5641 - val_acc: 0.5512 - val_f1_m: 0.9729 - val_precision_m: 0.9769 - val_recall_m: 0.9700\n",
      "Epoch 53/100\n",
      "99878/99878 [==============================] - 465s 5ms/step - loss: 0.0842 - acc: 0.8974 - f1_m: 0.9910 - precision_m: 0.9875 - recall_m: 0.9949 - val_loss: 0.5760 - val_acc: 0.5484 - val_f1_m: 0.9723 - val_precision_m: 0.9774 - val_recall_m: 0.9683\n",
      "Epoch 54/100\n",
      "99878/99878 [==============================] - 464s 5ms/step - loss: 0.0867 - acc: 0.8956 - f1_m: 0.9907 - precision_m: 0.9873 - recall_m: 0.9945 - val_loss: 0.5613 - val_acc: 0.5531 - val_f1_m: 0.9729 - val_precision_m: 0.9765 - val_recall_m: 0.9704\n",
      "Epoch 55/100\n",
      "99878/99878 [==============================] - 465s 5ms/step - loss: 0.0871 - acc: 0.8956 - f1_m: 0.9908 - precision_m: 0.9873 - recall_m: 0.9946 - val_loss: 0.5675 - val_acc: 0.5504 - val_f1_m: 0.9730 - val_precision_m: 0.9766 - val_recall_m: 0.9706\n",
      "Epoch 56/100\n",
      "99878/99878 [==============================] - 463s 5ms/step - loss: 0.0872 - acc: 0.8963 - f1_m: 0.9909 - precision_m: 0.9873 - recall_m: 0.9949 - val_loss: 0.5640 - val_acc: 0.5499 - val_f1_m: 0.9731 - val_precision_m: 0.9754 - val_recall_m: 0.9718\n",
      "Epoch 57/100\n",
      "99878/99878 [==============================] - 464s 5ms/step - loss: 0.0862 - acc: 0.8964 - f1_m: 0.9909 - precision_m: 0.9874 - recall_m: 0.9947 - val_loss: 0.5749 - val_acc: 0.5468 - val_f1_m: 0.9719 - val_precision_m: 0.9774 - val_recall_m: 0.9676\n",
      "Epoch 58/100\n",
      "99878/99878 [==============================] - 464s 5ms/step - loss: 0.0863 - acc: 0.8968 - f1_m: 0.9908 - precision_m: 0.9869 - recall_m: 0.9951 - val_loss: 0.5792 - val_acc: 0.5473 - val_f1_m: 0.9725 - val_precision_m: 0.9758 - val_recall_m: 0.9703\n",
      "Epoch 59/100\n",
      "99878/99878 [==============================] - 465s 5ms/step - loss: 0.0917 - acc: 0.8984 - f1_m: 0.9911 - precision_m: 0.9875 - recall_m: 0.9950 - val_loss: 0.5746 - val_acc: 0.5469 - val_f1_m: 0.9726 - val_precision_m: 0.9756 - val_recall_m: 0.9706\n",
      "Epoch 60/100\n",
      "99878/99878 [==============================] - 464s 5ms/step - loss: 0.0974 - acc: 0.9002 - f1_m: 0.9908 - precision_m: 0.9872 - recall_m: 0.9948 - val_loss: 0.5813 - val_acc: 0.5469 - val_f1_m: 0.9722 - val_precision_m: 0.9756 - val_recall_m: 0.9699\n",
      "Epoch 61/100\n",
      "76320/99878 [=====================>........] - ETA: 1:35 - loss: 0.0784 - acc: 0.9039 - f1_m: 0.9916 - precision_m: 0.9881 - recall_m: 0.9954"
     ]
    },
    {
     "ename": "KeyboardInterrupt",
     "evalue": "ignored",
     "output_type": "error",
     "traceback": [
      "\u001b[0;31m---------------------------------------------------------------------------\u001b[0m",
      "\u001b[0;31mKeyboardInterrupt\u001b[0m                         Traceback (most recent call last)",
      "\u001b[0;32m<ipython-input-34-b4aa37b52b6c>\u001b[0m in \u001b[0;36m<module>\u001b[0;34m()\u001b[0m\n\u001b[1;32m      1\u001b[0m \u001b[0;34m\u001b[0m\u001b[0m\n\u001b[0;32m----> 2\u001b[0;31m \u001b[0mmodel\u001b[0m\u001b[0;34m.\u001b[0m\u001b[0mfit\u001b[0m\u001b[0;34m(\u001b[0m\u001b[0mtrain_tfidf\u001b[0m\u001b[0;34m,\u001b[0m \u001b[0mY_train\u001b[0m\u001b[0;34m,\u001b[0m \u001b[0mbatch_size\u001b[0m\u001b[0;34m=\u001b[0m\u001b[0mbatch_size\u001b[0m\u001b[0;34m,\u001b[0m \u001b[0mepochs\u001b[0m\u001b[0;34m=\u001b[0m \u001b[0mnum_epochs\u001b[0m\u001b[0;34m,\u001b[0m \u001b[0mverbose\u001b[0m \u001b[0;34m=\u001b[0m\u001b[0;36m1\u001b[0m\u001b[0;34m,\u001b[0m \u001b[0mvalidation_split\u001b[0m\u001b[0;34m=\u001b[0m\u001b[0;36m0.2\u001b[0m\u001b[0;34m)\u001b[0m\u001b[0;34m\u001b[0m\u001b[0;34m\u001b[0m\u001b[0m\n\u001b[0m",
      "\u001b[0;32m/usr/local/lib/python3.6/dist-packages/keras/engine/training.py\u001b[0m in \u001b[0;36mfit\u001b[0;34m(self, x, y, batch_size, epochs, verbose, callbacks, validation_split, validation_data, shuffle, class_weight, sample_weight, initial_epoch, steps_per_epoch, validation_steps, **kwargs)\u001b[0m\n\u001b[1;32m   1037\u001b[0m                                         \u001b[0minitial_epoch\u001b[0m\u001b[0;34m=\u001b[0m\u001b[0minitial_epoch\u001b[0m\u001b[0;34m,\u001b[0m\u001b[0;34m\u001b[0m\u001b[0;34m\u001b[0m\u001b[0m\n\u001b[1;32m   1038\u001b[0m                                         \u001b[0msteps_per_epoch\u001b[0m\u001b[0;34m=\u001b[0m\u001b[0msteps_per_epoch\u001b[0m\u001b[0;34m,\u001b[0m\u001b[0;34m\u001b[0m\u001b[0;34m\u001b[0m\u001b[0m\n\u001b[0;32m-> 1039\u001b[0;31m                                         validation_steps=validation_steps)\n\u001b[0m\u001b[1;32m   1040\u001b[0m \u001b[0;34m\u001b[0m\u001b[0m\n\u001b[1;32m   1041\u001b[0m     def evaluate(self, x=None, y=None,\n",
      "\u001b[0;32m/usr/local/lib/python3.6/dist-packages/keras/engine/training_arrays.py\u001b[0m in \u001b[0;36mfit_loop\u001b[0;34m(model, f, ins, out_labels, batch_size, epochs, verbose, callbacks, val_f, val_ins, shuffle, callback_metrics, initial_epoch, steps_per_epoch, validation_steps)\u001b[0m\n\u001b[1;32m    197\u001b[0m                     \u001b[0mins_batch\u001b[0m\u001b[0;34m[\u001b[0m\u001b[0mi\u001b[0m\u001b[0;34m]\u001b[0m \u001b[0;34m=\u001b[0m \u001b[0mins_batch\u001b[0m\u001b[0;34m[\u001b[0m\u001b[0mi\u001b[0m\u001b[0;34m]\u001b[0m\u001b[0;34m.\u001b[0m\u001b[0mtoarray\u001b[0m\u001b[0;34m(\u001b[0m\u001b[0;34m)\u001b[0m\u001b[0;34m\u001b[0m\u001b[0;34m\u001b[0m\u001b[0m\n\u001b[1;32m    198\u001b[0m \u001b[0;34m\u001b[0m\u001b[0m\n\u001b[0;32m--> 199\u001b[0;31m                 \u001b[0mouts\u001b[0m \u001b[0;34m=\u001b[0m \u001b[0mf\u001b[0m\u001b[0;34m(\u001b[0m\u001b[0mins_batch\u001b[0m\u001b[0;34m)\u001b[0m\u001b[0;34m\u001b[0m\u001b[0;34m\u001b[0m\u001b[0m\n\u001b[0m\u001b[1;32m    200\u001b[0m                 \u001b[0mouts\u001b[0m \u001b[0;34m=\u001b[0m \u001b[0mto_list\u001b[0m\u001b[0;34m(\u001b[0m\u001b[0mouts\u001b[0m\u001b[0;34m)\u001b[0m\u001b[0;34m\u001b[0m\u001b[0;34m\u001b[0m\u001b[0m\n\u001b[1;32m    201\u001b[0m                 \u001b[0;32mfor\u001b[0m \u001b[0ml\u001b[0m\u001b[0;34m,\u001b[0m \u001b[0mo\u001b[0m \u001b[0;32min\u001b[0m \u001b[0mzip\u001b[0m\u001b[0;34m(\u001b[0m\u001b[0mout_labels\u001b[0m\u001b[0;34m,\u001b[0m \u001b[0mouts\u001b[0m\u001b[0;34m)\u001b[0m\u001b[0;34m:\u001b[0m\u001b[0;34m\u001b[0m\u001b[0;34m\u001b[0m\u001b[0m\n",
      "\u001b[0;32m/usr/local/lib/python3.6/dist-packages/keras/backend/tensorflow_backend.py\u001b[0m in \u001b[0;36m__call__\u001b[0;34m(self, inputs)\u001b[0m\n\u001b[1;32m   2713\u001b[0m                 \u001b[0;32mreturn\u001b[0m \u001b[0mself\u001b[0m\u001b[0;34m.\u001b[0m\u001b[0m_legacy_call\u001b[0m\u001b[0;34m(\u001b[0m\u001b[0minputs\u001b[0m\u001b[0;34m)\u001b[0m\u001b[0;34m\u001b[0m\u001b[0;34m\u001b[0m\u001b[0m\n\u001b[1;32m   2714\u001b[0m \u001b[0;34m\u001b[0m\u001b[0m\n\u001b[0;32m-> 2715\u001b[0;31m             \u001b[0;32mreturn\u001b[0m \u001b[0mself\u001b[0m\u001b[0;34m.\u001b[0m\u001b[0m_call\u001b[0m\u001b[0;34m(\u001b[0m\u001b[0minputs\u001b[0m\u001b[0;34m)\u001b[0m\u001b[0;34m\u001b[0m\u001b[0;34m\u001b[0m\u001b[0m\n\u001b[0m\u001b[1;32m   2716\u001b[0m         \u001b[0;32melse\u001b[0m\u001b[0;34m:\u001b[0m\u001b[0;34m\u001b[0m\u001b[0;34m\u001b[0m\u001b[0m\n\u001b[1;32m   2717\u001b[0m             \u001b[0;32mif\u001b[0m \u001b[0mpy_any\u001b[0m\u001b[0;34m(\u001b[0m\u001b[0mis_tensor\u001b[0m\u001b[0;34m(\u001b[0m\u001b[0mx\u001b[0m\u001b[0;34m)\u001b[0m \u001b[0;32mfor\u001b[0m \u001b[0mx\u001b[0m \u001b[0;32min\u001b[0m \u001b[0minputs\u001b[0m\u001b[0;34m)\u001b[0m\u001b[0;34m:\u001b[0m\u001b[0;34m\u001b[0m\u001b[0;34m\u001b[0m\u001b[0m\n",
      "\u001b[0;32m/usr/local/lib/python3.6/dist-packages/keras/backend/tensorflow_backend.py\u001b[0m in \u001b[0;36m_call\u001b[0;34m(self, inputs)\u001b[0m\n\u001b[1;32m   2673\u001b[0m             \u001b[0mfetched\u001b[0m \u001b[0;34m=\u001b[0m \u001b[0mself\u001b[0m\u001b[0;34m.\u001b[0m\u001b[0m_callable_fn\u001b[0m\u001b[0;34m(\u001b[0m\u001b[0;34m*\u001b[0m\u001b[0marray_vals\u001b[0m\u001b[0;34m,\u001b[0m \u001b[0mrun_metadata\u001b[0m\u001b[0;34m=\u001b[0m\u001b[0mself\u001b[0m\u001b[0;34m.\u001b[0m\u001b[0mrun_metadata\u001b[0m\u001b[0;34m)\u001b[0m\u001b[0;34m\u001b[0m\u001b[0;34m\u001b[0m\u001b[0m\n\u001b[1;32m   2674\u001b[0m         \u001b[0;32melse\u001b[0m\u001b[0;34m:\u001b[0m\u001b[0;34m\u001b[0m\u001b[0;34m\u001b[0m\u001b[0m\n\u001b[0;32m-> 2675\u001b[0;31m             \u001b[0mfetched\u001b[0m \u001b[0;34m=\u001b[0m \u001b[0mself\u001b[0m\u001b[0;34m.\u001b[0m\u001b[0m_callable_fn\u001b[0m\u001b[0;34m(\u001b[0m\u001b[0;34m*\u001b[0m\u001b[0marray_vals\u001b[0m\u001b[0;34m)\u001b[0m\u001b[0;34m\u001b[0m\u001b[0;34m\u001b[0m\u001b[0m\n\u001b[0m\u001b[1;32m   2676\u001b[0m         \u001b[0;32mreturn\u001b[0m \u001b[0mfetched\u001b[0m\u001b[0;34m[\u001b[0m\u001b[0;34m:\u001b[0m\u001b[0mlen\u001b[0m\u001b[0;34m(\u001b[0m\u001b[0mself\u001b[0m\u001b[0;34m.\u001b[0m\u001b[0moutputs\u001b[0m\u001b[0;34m)\u001b[0m\u001b[0;34m]\u001b[0m\u001b[0;34m\u001b[0m\u001b[0;34m\u001b[0m\u001b[0m\n\u001b[1;32m   2677\u001b[0m \u001b[0;34m\u001b[0m\u001b[0m\n",
      "\u001b[0;32m/usr/local/lib/python3.6/dist-packages/tensorflow/python/client/session.py\u001b[0m in \u001b[0;36m__call__\u001b[0;34m(self, *args, **kwargs)\u001b[0m\n\u001b[1;32m   1456\u001b[0m         ret = tf_session.TF_SessionRunCallable(self._session._session,\n\u001b[1;32m   1457\u001b[0m                                                \u001b[0mself\u001b[0m\u001b[0;34m.\u001b[0m\u001b[0m_handle\u001b[0m\u001b[0;34m,\u001b[0m \u001b[0margs\u001b[0m\u001b[0;34m,\u001b[0m\u001b[0;34m\u001b[0m\u001b[0;34m\u001b[0m\u001b[0m\n\u001b[0;32m-> 1458\u001b[0;31m                                                run_metadata_ptr)\n\u001b[0m\u001b[1;32m   1459\u001b[0m         \u001b[0;32mif\u001b[0m \u001b[0mrun_metadata\u001b[0m\u001b[0;34m:\u001b[0m\u001b[0;34m\u001b[0m\u001b[0;34m\u001b[0m\u001b[0m\n\u001b[1;32m   1460\u001b[0m           \u001b[0mproto_data\u001b[0m \u001b[0;34m=\u001b[0m \u001b[0mtf_session\u001b[0m\u001b[0;34m.\u001b[0m\u001b[0mTF_GetBuffer\u001b[0m\u001b[0;34m(\u001b[0m\u001b[0mrun_metadata_ptr\u001b[0m\u001b[0;34m)\u001b[0m\u001b[0;34m\u001b[0m\u001b[0;34m\u001b[0m\u001b[0m\n",
      "\u001b[0;31mKeyboardInterrupt\u001b[0m: "
     ]
    }
   ],
   "source": [
    "\n",
    "model.fit(train_tfidf, Y_train, batch_size=batch_size, epochs= num_epochs, verbose =1, validation_split=0.2)"
   ]
  },
  {
   "cell_type": "code",
   "execution_count": 0,
   "metadata": {
    "colab": {},
    "colab_type": "code",
    "id": "zrdDuRmQWfHT"
   },
   "outputs": [],
   "source": [
    "train_bow.shape[1]"
   ]
  },
  {
   "cell_type": "code",
   "execution_count": 0,
   "metadata": {
    "colab": {},
    "colab_type": "code",
    "id": "ra97vthMWsUJ"
   },
   "outputs": [],
   "source": [
    "# Performance evaluation\n",
    "# Alt def\n",
    "def recall_m(y_true, y_pred):\n",
    "  true_positives = K.sum(K.round(K.clip(y_true * y_pred,0,1)))\n",
    "  possible_positives = K.sum(K.round(K.clip(y_true,0,1)))\n",
    "  recall = true_positives/(possible_positives + K.epsilon())\n",
    "  return recall\n",
    "\n",
    "def precision_m(y_true, y_pred):\n",
    "  true_positives=K.sum(K.round(K.clip(y_true*y_pred,0,1)))\n",
    "  predicted_positives = K.sum(K.round(K.clip(y_pred,0,1)))\n",
    "  precision= true_positives/(predicted_positives + K.epsilon())\n",
    "  return precision\n",
    "\n",
    "def f1_m(y_true, y_pred):\n",
    "  precision=precision_m(y_true, y_pred)\n",
    "  recall = recall_m(y_true, y_pred)\n",
    "  return 2*((precision*recall)/(precision+recall+K.epsilon()))\n",
    "\n",
    "def print_metrics(accuracy, f1_score, precision, recall):\n",
    "  print('SIMPLE CNN MODEL PERFORMANCE')\n",
    "  print('Accuracy:', np.round(accuracy, 4))\n",
    "  print('Precision:', np.round(precision, 4))\n",
    "  print('Recall:', np.round(recall, 4))\n",
    "  print('F1 Score:', np.round(f1_score, 4))\n",
    "  print('\\n')"
   ]
  },
  {
   "cell_type": "code",
   "execution_count": 35,
   "metadata": {
    "colab": {
     "base_uri": "https://localhost:8080/",
     "height": 153
    },
    "colab_type": "code",
    "id": "qEtQLF-LZrfu",
    "outputId": "4d9af7ec-83f0-4732-f9ab-68716a338cd7"
   },
   "outputs": [
    {
     "name": "stdout",
     "output_type": "stream",
     "text": [
      "31212/31212 [==============================] - 74s 2ms/step\n",
      "SIMPLE CNN MODEL PERFORMANCE\n",
      "Accuracy: 0.5403\n",
      "Precision: 0.9771\n",
      "Recall: 0.9691\n",
      "F1 Score: 0.9725\n",
      "\n",
      "\n"
     ]
    }
   ],
   "source": [
    "#model.evaluate(test_bow, Y_test)\n",
    "#y_pred = model.predict(test_bow)\n",
    "loss, accuracy, f1_score, precision, recall = model.evaluate(test_tfidf, Y_test)\n",
    "print_metrics(accuracy, f1_score, precision, recall)"
   ]
  },
  {
   "cell_type": "code",
   "execution_count": 0,
   "metadata": {
    "colab": {},
    "colab_type": "code",
    "id": "8lNzsQBSr3wL"
   },
   "outputs": [],
   "source": [
    "ylist = list(y_pred[:, 0])"
   ]
  },
  {
   "cell_type": "code",
   "execution_count": 0,
   "metadata": {
    "colab": {},
    "colab_type": "code",
    "id": "7xAxgV2eaIzJ"
   },
   "outputs": [],
   "source": [
    "ytest = list(Y_test)"
   ]
  },
  {
   "cell_type": "code",
   "execution_count": 0,
   "metadata": {
    "colab": {
     "base_uri": "https://localhost:8080/",
     "height": 34
    },
    "colab_type": "code",
    "id": "DDW-l3yIpIsa",
    "outputId": "0bffc5c4-bfb4-43c1-f8d7-1cc100e315bb"
   },
   "outputs": [
    {
     "data": {
      "text/plain": [
       "2.7084007"
      ]
     },
     "execution_count": 48,
     "metadata": {
      "tags": []
     },
     "output_type": "execute_result"
    }
   ],
   "source": [
    "ylist[0]"
   ]
  },
  {
   "cell_type": "code",
   "execution_count": 0,
   "metadata": {
    "colab": {
     "base_uri": "https://localhost:8080/",
     "height": 282
    },
    "colab_type": "code",
    "id": "kvNwtEr6to9v",
    "outputId": "815cbe15-172b-43ec-8022-0f7adb8d0bd3"
   },
   "outputs": [
    {
     "ename": "TypeError",
     "evalue": "ignored",
     "output_type": "error",
     "traceback": [
      "\u001b[0;31m---------------------------------------------------------------------------\u001b[0m",
      "\u001b[0;31mTypeError\u001b[0m                                 Traceback (most recent call last)",
      "\u001b[0;32m<ipython-input-50-11fc3b673e91>\u001b[0m in \u001b[0;36m<module>\u001b[0;34m()\u001b[0m\n\u001b[0;32m----> 1\u001b[0;31m \u001b[0mrecall\u001b[0m \u001b[0;34m=\u001b[0m \u001b[0mrecall_m\u001b[0m\u001b[0;34m(\u001b[0m\u001b[0mytest\u001b[0m\u001b[0;34m,\u001b[0m \u001b[0mylist\u001b[0m\u001b[0;34m)\u001b[0m\u001b[0;34m\u001b[0m\u001b[0;34m\u001b[0m\u001b[0m\n\u001b[0m",
      "\u001b[0;32m<ipython-input-49-22f3c3db3897>\u001b[0m in \u001b[0;36mrecall_m\u001b[0;34m(y_true, y_pred)\u001b[0m\n\u001b[1;32m      1\u001b[0m \u001b[0;32mdef\u001b[0m \u001b[0mrecall_m\u001b[0m\u001b[0;34m(\u001b[0m\u001b[0my_true\u001b[0m\u001b[0;34m,\u001b[0m \u001b[0my_pred\u001b[0m\u001b[0;34m)\u001b[0m\u001b[0;34m:\u001b[0m\u001b[0;34m\u001b[0m\u001b[0;34m\u001b[0m\u001b[0m\n\u001b[0;32m----> 2\u001b[0;31m   \u001b[0mtrue_positives\u001b[0m \u001b[0;34m=\u001b[0m \u001b[0mK\u001b[0m\u001b[0;34m.\u001b[0m\u001b[0msum\u001b[0m\u001b[0;34m(\u001b[0m\u001b[0mK\u001b[0m\u001b[0;34m.\u001b[0m\u001b[0mround\u001b[0m\u001b[0;34m(\u001b[0m\u001b[0mK\u001b[0m\u001b[0;34m.\u001b[0m\u001b[0mclip\u001b[0m\u001b[0;34m(\u001b[0m\u001b[0my_true\u001b[0m \u001b[0;34m*\u001b[0m \u001b[0my_pred\u001b[0m\u001b[0;34m,\u001b[0m\u001b[0;36m0\u001b[0m\u001b[0;34m,\u001b[0m\u001b[0;36m1\u001b[0m\u001b[0;34m)\u001b[0m\u001b[0;34m)\u001b[0m\u001b[0;34m)\u001b[0m\u001b[0;34m\u001b[0m\u001b[0;34m\u001b[0m\u001b[0m\n\u001b[0m\u001b[1;32m      3\u001b[0m   \u001b[0mpossible_positives\u001b[0m \u001b[0;34m=\u001b[0m \u001b[0mK\u001b[0m\u001b[0;34m.\u001b[0m\u001b[0msum\u001b[0m\u001b[0;34m(\u001b[0m\u001b[0mK\u001b[0m\u001b[0;34m.\u001b[0m\u001b[0mround\u001b[0m\u001b[0;34m(\u001b[0m\u001b[0mK\u001b[0m\u001b[0;34m.\u001b[0m\u001b[0mclip\u001b[0m\u001b[0;34m(\u001b[0m\u001b[0my_true\u001b[0m\u001b[0;34m,\u001b[0m\u001b[0;36m0\u001b[0m\u001b[0;34m,\u001b[0m\u001b[0;36m1\u001b[0m\u001b[0;34m)\u001b[0m\u001b[0;34m)\u001b[0m\u001b[0;34m)\u001b[0m\u001b[0;34m\u001b[0m\u001b[0;34m\u001b[0m\u001b[0m\n\u001b[1;32m      4\u001b[0m   \u001b[0mrecall\u001b[0m \u001b[0;34m=\u001b[0m \u001b[0mtrue_positives\u001b[0m\u001b[0;34m/\u001b[0m\u001b[0;34m(\u001b[0m\u001b[0mpossible_positives\u001b[0m \u001b[0;34m+\u001b[0m \u001b[0mK\u001b[0m\u001b[0;34m.\u001b[0m\u001b[0mepsilon\u001b[0m\u001b[0;34m(\u001b[0m\u001b[0;34m)\u001b[0m\u001b[0;34m)\u001b[0m\u001b[0;34m\u001b[0m\u001b[0;34m\u001b[0m\u001b[0m\n\u001b[1;32m      5\u001b[0m   \u001b[0;32mreturn\u001b[0m \u001b[0mrecall\u001b[0m\u001b[0;34m\u001b[0m\u001b[0;34m\u001b[0m\u001b[0m\n",
      "\u001b[0;31mTypeError\u001b[0m: can't multiply sequence by non-int of type 'list'"
     ]
    }
   ],
   "source": [
    "recall = recall_m(ytest, ylist)"
   ]
  },
  {
   "cell_type": "code",
   "execution_count": 0,
   "metadata": {
    "colab": {
     "base_uri": "https://localhost:8080/",
     "height": 282
    },
    "colab_type": "code",
    "id": "M9QsqOsWuP7M",
    "outputId": "42860754-b12d-4677-d6f3-d134720ccb97"
   },
   "outputs": [
    {
     "ename": "AttributeError",
     "evalue": "ignored",
     "output_type": "error",
     "traceback": [
      "\u001b[0;31m---------------------------------------------------------------------------\u001b[0m",
      "\u001b[0;31mAttributeError\u001b[0m                            Traceback (most recent call last)",
      "\u001b[0;32m<ipython-input-53-942c3a1df870>\u001b[0m in \u001b[0;36m<module>\u001b[0;34m()\u001b[0m\n\u001b[0;32m----> 1\u001b[0;31m \u001b[0mK\u001b[0m\u001b[0;34m.\u001b[0m\u001b[0mclip\u001b[0m\u001b[0;34m(\u001b[0m\u001b[0mY_test\u001b[0m\u001b[0;34m,\u001b[0m\u001b[0;36m0\u001b[0m\u001b[0;34m,\u001b[0m\u001b[0;36m1\u001b[0m\u001b[0;34m)\u001b[0m\u001b[0;34m\u001b[0m\u001b[0;34m\u001b[0m\u001b[0m\n\u001b[0m",
      "\u001b[0;32m/usr/local/lib/python3.6/dist-packages/keras/backend/tensorflow_backend.py\u001b[0m in \u001b[0;36mclip\u001b[0;34m(x, min_value, max_value)\u001b[0m\n\u001b[1;32m   1599\u001b[0m     \u001b[0;32mif\u001b[0m \u001b[0mmax_value\u001b[0m \u001b[0;32mis\u001b[0m \u001b[0;32mNone\u001b[0m\u001b[0;34m:\u001b[0m\u001b[0;34m\u001b[0m\u001b[0;34m\u001b[0m\u001b[0m\n\u001b[1;32m   1600\u001b[0m         \u001b[0mmax_value\u001b[0m \u001b[0;34m=\u001b[0m \u001b[0mnp\u001b[0m\u001b[0;34m.\u001b[0m\u001b[0minf\u001b[0m\u001b[0;34m\u001b[0m\u001b[0;34m\u001b[0m\u001b[0m\n\u001b[0;32m-> 1601\u001b[0;31m     \u001b[0mmin_value\u001b[0m \u001b[0;34m=\u001b[0m \u001b[0m_to_tensor\u001b[0m\u001b[0;34m(\u001b[0m\u001b[0mmin_value\u001b[0m\u001b[0;34m,\u001b[0m \u001b[0mx\u001b[0m\u001b[0;34m.\u001b[0m\u001b[0mdtype\u001b[0m\u001b[0;34m.\u001b[0m\u001b[0mbase_dtype\u001b[0m\u001b[0;34m)\u001b[0m\u001b[0;34m\u001b[0m\u001b[0;34m\u001b[0m\u001b[0m\n\u001b[0m\u001b[1;32m   1602\u001b[0m     \u001b[0mmax_value\u001b[0m \u001b[0;34m=\u001b[0m \u001b[0m_to_tensor\u001b[0m\u001b[0;34m(\u001b[0m\u001b[0mmax_value\u001b[0m\u001b[0;34m,\u001b[0m \u001b[0mx\u001b[0m\u001b[0;34m.\u001b[0m\u001b[0mdtype\u001b[0m\u001b[0;34m.\u001b[0m\u001b[0mbase_dtype\u001b[0m\u001b[0;34m)\u001b[0m\u001b[0;34m\u001b[0m\u001b[0;34m\u001b[0m\u001b[0m\n\u001b[1;32m   1603\u001b[0m     \u001b[0;32mreturn\u001b[0m \u001b[0mtf\u001b[0m\u001b[0;34m.\u001b[0m\u001b[0mclip_by_value\u001b[0m\u001b[0;34m(\u001b[0m\u001b[0mx\u001b[0m\u001b[0;34m,\u001b[0m \u001b[0mmin_value\u001b[0m\u001b[0;34m,\u001b[0m \u001b[0mmax_value\u001b[0m\u001b[0;34m)\u001b[0m\u001b[0;34m\u001b[0m\u001b[0;34m\u001b[0m\u001b[0m\n",
      "\u001b[0;31mAttributeError\u001b[0m: 'numpy.dtype' object has no attribute 'base_dtype'"
     ]
    }
   ],
   "source": [
    "K.clip(Y_test,0,1)"
   ]
  },
  {
   "cell_type": "code",
   "execution_count": 0,
   "metadata": {
    "colab": {
     "base_uri": "https://localhost:8080/",
     "height": 595
    },
    "colab_type": "code",
    "id": "ErpEOMius-Yc",
    "outputId": "fe540c2b-98e3-4c30-a2f2-0466c26b93ff"
   },
   "outputs": [
    {
     "name": "stdout",
     "output_type": "stream",
     "text": [
      "Evaluation for CNN:\n"
     ]
    },
    {
     "ename": "ValueError",
     "evalue": "ignored",
     "output_type": "error",
     "traceback": [
      "\u001b[0;31m---------------------------------------------------------------------------\u001b[0m",
      "\u001b[0;31mValueError\u001b[0m                                Traceback (most recent call last)",
      "\u001b[0;32m<ipython-input-51-17c129a5ac36>\u001b[0m in \u001b[0;36m<module>\u001b[0;34m()\u001b[0m\n\u001b[1;32m      1\u001b[0m \u001b[0mprint\u001b[0m\u001b[0;34m(\u001b[0m\u001b[0;34m\"Evaluation for CNN:\"\u001b[0m\u001b[0;34m)\u001b[0m\u001b[0;34m\u001b[0m\u001b[0;34m\u001b[0m\u001b[0m\n\u001b[0;32m----> 2\u001b[0;31m \u001b[0mget_metrics\u001b[0m\u001b[0;34m(\u001b[0m\u001b[0mytest\u001b[0m\u001b[0;34m,\u001b[0m \u001b[0mylist\u001b[0m\u001b[0;34m,\u001b[0m \u001b[0mtest_tfidf\u001b[0m\u001b[0;34m)\u001b[0m\u001b[0;34m\u001b[0m\u001b[0;34m\u001b[0m\u001b[0m\n\u001b[0m\u001b[1;32m      3\u001b[0m \u001b[0mprint\u001b[0m\u001b[0;34m(\u001b[0m\u001b[0;34m\"\"\u001b[0m\u001b[0;34m)\u001b[0m\u001b[0;34m\u001b[0m\u001b[0;34m\u001b[0m\u001b[0m\n",
      "\u001b[0;32m<ipython-input-18-4da56f143760>\u001b[0m in \u001b[0;36mget_metrics\u001b[0;34m(true_labels, predicted_labels, feature)\u001b[0m\n\u001b[1;32m      1\u001b[0m \u001b[0;32mdef\u001b[0m \u001b[0mget_metrics\u001b[0m\u001b[0;34m(\u001b[0m\u001b[0mtrue_labels\u001b[0m\u001b[0;34m,\u001b[0m \u001b[0mpredicted_labels\u001b[0m\u001b[0;34m,\u001b[0m \u001b[0mfeature\u001b[0m\u001b[0;34m)\u001b[0m\u001b[0;34m:\u001b[0m\u001b[0;34m\u001b[0m\u001b[0;34m\u001b[0m\u001b[0m\n\u001b[1;32m      2\u001b[0m   \u001b[0;31m#print(feature)\u001b[0m\u001b[0;34m\u001b[0m\u001b[0;34m\u001b[0m\u001b[0;34m\u001b[0m\u001b[0m\n\u001b[0;32m----> 3\u001b[0;31m   \u001b[0mprint\u001b[0m\u001b[0;34m(\u001b[0m\u001b[0;34m'Accuracy:'\u001b[0m\u001b[0;34m,\u001b[0m \u001b[0mnp\u001b[0m\u001b[0;34m.\u001b[0m\u001b[0mround\u001b[0m\u001b[0;34m(\u001b[0m\u001b[0mmetrics\u001b[0m\u001b[0;34m.\u001b[0m\u001b[0maccuracy_score\u001b[0m\u001b[0;34m(\u001b[0m\u001b[0mtrue_labels\u001b[0m\u001b[0;34m,\u001b[0m \u001b[0mpredicted_labels\u001b[0m\u001b[0;34m)\u001b[0m\u001b[0;34m,\u001b[0m \u001b[0;36m4\u001b[0m\u001b[0;34m)\u001b[0m\u001b[0;34m)\u001b[0m\u001b[0;34m\u001b[0m\u001b[0;34m\u001b[0m\u001b[0m\n\u001b[0m\u001b[1;32m      4\u001b[0m   \u001b[0mprint\u001b[0m\u001b[0;34m(\u001b[0m\u001b[0;34m'Precision:'\u001b[0m\u001b[0;34m,\u001b[0m \u001b[0mnp\u001b[0m\u001b[0;34m.\u001b[0m\u001b[0mround\u001b[0m\u001b[0;34m(\u001b[0m\u001b[0mmetrics\u001b[0m\u001b[0;34m.\u001b[0m\u001b[0mprecision_score\u001b[0m\u001b[0;34m(\u001b[0m\u001b[0mtrue_labels\u001b[0m\u001b[0;34m,\u001b[0m \u001b[0mpredicted_labels\u001b[0m\u001b[0;34m,\u001b[0m \u001b[0maverage\u001b[0m\u001b[0;34m=\u001b[0m\u001b[0;34m'weighted'\u001b[0m\u001b[0;34m)\u001b[0m\u001b[0;34m,\u001b[0m \u001b[0;36m4\u001b[0m\u001b[0;34m)\u001b[0m\u001b[0;34m)\u001b[0m\u001b[0;34m\u001b[0m\u001b[0;34m\u001b[0m\u001b[0m\n\u001b[1;32m      5\u001b[0m   \u001b[0mprint\u001b[0m\u001b[0;34m(\u001b[0m\u001b[0;34m'Recall:'\u001b[0m\u001b[0;34m,\u001b[0m \u001b[0mnp\u001b[0m\u001b[0;34m.\u001b[0m\u001b[0mround\u001b[0m\u001b[0;34m(\u001b[0m\u001b[0mmetrics\u001b[0m\u001b[0;34m.\u001b[0m\u001b[0mrecall_score\u001b[0m\u001b[0;34m(\u001b[0m\u001b[0mtrue_labels\u001b[0m\u001b[0;34m,\u001b[0m \u001b[0mpredicted_labels\u001b[0m\u001b[0;34m,\u001b[0m \u001b[0maverage\u001b[0m\u001b[0;34m=\u001b[0m\u001b[0;34m'weighted'\u001b[0m\u001b[0;34m)\u001b[0m\u001b[0;34m,\u001b[0m \u001b[0;36m4\u001b[0m\u001b[0;34m)\u001b[0m\u001b[0;34m)\u001b[0m\u001b[0;34m\u001b[0m\u001b[0;34m\u001b[0m\u001b[0m\n",
      "\u001b[0;32m/usr/local/lib/python3.6/dist-packages/sklearn/metrics/classification.py\u001b[0m in \u001b[0;36maccuracy_score\u001b[0;34m(y_true, y_pred, normalize, sample_weight)\u001b[0m\n\u001b[1;32m    174\u001b[0m \u001b[0;34m\u001b[0m\u001b[0m\n\u001b[1;32m    175\u001b[0m     \u001b[0;31m# Compute accuracy for each possible representation\u001b[0m\u001b[0;34m\u001b[0m\u001b[0;34m\u001b[0m\u001b[0;34m\u001b[0m\u001b[0m\n\u001b[0;32m--> 176\u001b[0;31m     \u001b[0my_type\u001b[0m\u001b[0;34m,\u001b[0m \u001b[0my_true\u001b[0m\u001b[0;34m,\u001b[0m \u001b[0my_pred\u001b[0m \u001b[0;34m=\u001b[0m \u001b[0m_check_targets\u001b[0m\u001b[0;34m(\u001b[0m\u001b[0my_true\u001b[0m\u001b[0;34m,\u001b[0m \u001b[0my_pred\u001b[0m\u001b[0;34m)\u001b[0m\u001b[0;34m\u001b[0m\u001b[0;34m\u001b[0m\u001b[0m\n\u001b[0m\u001b[1;32m    177\u001b[0m     \u001b[0mcheck_consistent_length\u001b[0m\u001b[0;34m(\u001b[0m\u001b[0my_true\u001b[0m\u001b[0;34m,\u001b[0m \u001b[0my_pred\u001b[0m\u001b[0;34m,\u001b[0m \u001b[0msample_weight\u001b[0m\u001b[0;34m)\u001b[0m\u001b[0;34m\u001b[0m\u001b[0;34m\u001b[0m\u001b[0m\n\u001b[1;32m    178\u001b[0m     \u001b[0;32mif\u001b[0m \u001b[0my_type\u001b[0m\u001b[0;34m.\u001b[0m\u001b[0mstartswith\u001b[0m\u001b[0;34m(\u001b[0m\u001b[0;34m'multilabel'\u001b[0m\u001b[0;34m)\u001b[0m\u001b[0;34m:\u001b[0m\u001b[0;34m\u001b[0m\u001b[0;34m\u001b[0m\u001b[0m\n",
      "\u001b[0;32m/usr/local/lib/python3.6/dist-packages/sklearn/metrics/classification.py\u001b[0m in \u001b[0;36m_check_targets\u001b[0;34m(y_true, y_pred)\u001b[0m\n\u001b[1;32m     79\u001b[0m     \u001b[0;32mif\u001b[0m \u001b[0mlen\u001b[0m\u001b[0;34m(\u001b[0m\u001b[0my_type\u001b[0m\u001b[0;34m)\u001b[0m \u001b[0;34m>\u001b[0m \u001b[0;36m1\u001b[0m\u001b[0;34m:\u001b[0m\u001b[0;34m\u001b[0m\u001b[0;34m\u001b[0m\u001b[0m\n\u001b[1;32m     80\u001b[0m         raise ValueError(\"Classification metrics can't handle a mix of {0} \"\n\u001b[0;32m---> 81\u001b[0;31m                          \"and {1} targets\".format(type_true, type_pred))\n\u001b[0m\u001b[1;32m     82\u001b[0m \u001b[0;34m\u001b[0m\u001b[0m\n\u001b[1;32m     83\u001b[0m     \u001b[0;31m# We can't have more than one value on y_type => The set is no more needed\u001b[0m\u001b[0;34m\u001b[0m\u001b[0;34m\u001b[0m\u001b[0;34m\u001b[0m\u001b[0m\n",
      "\u001b[0;31mValueError\u001b[0m: Classification metrics can't handle a mix of multiclass and continuous targets"
     ]
    }
   ],
   "source": [
    "print(\"Evaluation for CNN:\")\n",
    "get_metrics(ytest, ylist, test_tfidf)\n",
    "print(\"\")"
   ]
  },
  {
   "cell_type": "code",
   "execution_count": 0,
   "metadata": {
    "colab": {},
    "colab_type": "code",
    "id": "9WSomwlDpLNZ"
   },
   "outputs": [],
   "source": [
    "embedding_dim = 100\n",
    "\n",
    "model = Sequential()\n",
    "model.add(layers.Embedding(train_tfidf.shape[1], embedding_dim, input_length=train_tfidf.shape[1]))\n",
    "model.add(layers.Conv1D(128, 5, activation='relu'))\n",
    "model.add(layers.GlobalMaxPooling1D())\n",
    "model.add(layers.Dense(10, activation='relu'))\n",
    "model.add(layers.Dense(1, activation='sigmoid'))\n",
    "model.compile(optimizer='adam',\n",
    "              loss='binary_crossentropy',\n",
    "              metrics=['accuracy'])\n",
    "model.summary()"
   ]
  },
  {
   "cell_type": "code",
   "execution_count": 0,
   "metadata": {
    "colab": {},
    "colab_type": "code",
    "id": "VBbBfLMk7cNl"
   },
   "outputs": [],
   "source": [
    "history = model.fit(train_tfidf, Y_train,\n",
    "                    epochs=10,\n",
    "                    verbose=False,\n",
    "                    validation_split=0.2,\n",
    "                    batch_size=10)\n",
    "loss, accuracy = model.evaluate(train_tfidf, Y_train, verbose=False)\n",
    "print(\"Training Accuracy: {:.4f}\".format(accuracy))\n",
    "loss, accuracy = model.evaluate(test_tfidf, Y_test, verbose=False)\n",
    "print(\"Testing Accuracy:  {:.4f}\".format(accuracy))\n",
    "plot_history(history)"
   ]
  },
  {
   "cell_type": "code",
   "execution_count": 0,
   "metadata": {
    "colab": {},
    "colab_type": "code",
    "id": "o4LDHJHi8HNG"
   },
   "outputs": [],
   "source": []
  }
 ],
 "metadata": {
  "accelerator": "GPU",
  "colab": {
   "collapsed_sections": [],
   "machine_shape": "hm",
   "name": "Assignment3.ipynb",
   "provenance": [],
   "version": "0.3.2"
  },
  "kernelspec": {
   "display_name": "Python 3",
   "language": "python",
   "name": "python3"
  },
  "language_info": {
   "codemirror_mode": {
    "name": "ipython",
    "version": 3
   },
   "file_extension": ".py",
   "mimetype": "text/x-python",
   "name": "python",
   "nbconvert_exporter": "python",
   "pygments_lexer": "ipython3",
   "version": "3.6.6"
  }
 },
 "nbformat": 4,
 "nbformat_minor": 1
}
